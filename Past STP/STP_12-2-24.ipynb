{
 "cells": [
  {
   "cell_type": "markdown",
   "id": "02d3fd87-62b1-4c6c-a986-8e302a9b9189",
   "metadata": {},
   "source": [
    "#### What Require Inputs in this Notebook\n",
    "1. [Fill in File Input](#Load-in-Data)\n",
    "2. [Output ShotCSV](#Output-ShotCSV)\n",
    "3. [EDA and get Stats Here](#EDA)\n",
    "4. [Output PointCSV for Visuals](#Output-PointCSV)\n",
    "5. [Output PointCSV for Upload](#Print-POINTCSV-UPLOAD)"
   ]
  },
  {
   "cell_type": "markdown",
   "id": "a070c44e-ea6f-4b06-b098-5246cffd01a1",
   "metadata": {},
   "source": [
    "# Table of Contents\n",
    "1. [Load in Data](#Load-in-Data)\n",
    "- Error Checking\n",
    "- Add Columns\n",
    "- [Output ShotCSV](#Output-ShotCSV)\n",
    "2. [Create Point DF](#Create-Point-DF)\n",
    "- Add Columns\n",
    "- [Output PointCSV for Visuals](#PRINT-POINTCSV-VISUALS)\n",
    "- [Output PointCSV for Upload](#Print-POINTCSV-UPLOAD)    \n",
    "\n",
    "# [Click for Summary Stats and EDA HERE](#EDA)"
   ]
  },
  {
   "cell_type": "code",
   "execution_count": null,
   "id": "2ad8f6c8",
   "metadata": {},
   "outputs": [],
   "source": []
  },
  {
   "cell_type": "markdown",
   "id": "e3ee5fc0",
   "metadata": {},
   "source": [
    "## NEED TO DO\n",
    "#### Add Error Checks\n",
    "- Check to output rows where firstServeIn == NA and secondServeIn == NA AND is not a Double Falue\n",
    "- Check is serverName is alternating\n",
    "- Check if shotInRally is in order for each pointNumber AND check if duplicate shotInRally\n",
    "\n",
    "#### Columns\n",
    "- [Change isApproach to be aggregatead from Coordinate Data](####-Add-Column:-isAprroach)\n",
    "        - see if the next consecutive shotInRally coordinates are further up into the court"
   ]
  },
  {
   "cell_type": "code",
   "execution_count": null,
   "id": "15dfcbdf",
   "metadata": {},
   "outputs": [],
   "source": []
  },
  {
   "cell_type": "code",
   "execution_count": null,
   "id": "ef6d976c",
   "metadata": {},
   "outputs": [],
   "source": []
  },
  {
   "cell_type": "code",
   "execution_count": null,
   "id": "e315980a",
   "metadata": {},
   "outputs": [],
   "source": []
  },
  {
   "cell_type": "code",
   "execution_count": null,
   "id": "8d9d5f1a",
   "metadata": {},
   "outputs": [],
   "source": []
  },
  {
   "cell_type": "markdown",
   "id": "a7732809-2f64-4073-92cd-53c6a89ae448",
   "metadata": {},
   "source": [
    "### Notebook Start"
   ]
  },
  {
   "cell_type": "code",
   "execution_count": null,
   "id": "a00cc2fa",
   "metadata": {},
   "outputs": [],
   "source": [
    "import pandas as pd\n",
    "import numpy as np\n",
    "import os \n",
    "import re\n",
    "\n",
    "# Option to display max rows/columns\n",
    "pd.set_option('display.max_rows', None)\n",
    "pd.set_option('display.max_columns', None)"
   ]
  },
  {
   "cell_type": "markdown",
   "id": "8ae2018a",
   "metadata": {},
   "source": [
    "### Load Data"
   ]
  },
  {
   "cell_type": "code",
   "execution_count": null,
   "id": "63027a05",
   "metadata": {},
   "outputs": [],
   "source": [
    "# Put your Uncleaned .csv file name here\n",
    "your_file_name = 'swingvision_AadarshTripathi_LucaStaeheli.csv'\n",
    "shot_data = pd.read_csv(your_file_name)\n",
    "shot_data.shape"
   ]
  },
  {
   "cell_type": "code",
   "execution_count": null,
   "id": "ea9e901c",
   "metadata": {},
   "outputs": [],
   "source": [
    "shot_data.head()"
   ]
  },
  {
   "cell_type": "markdown",
   "id": "28a81aad",
   "metadata": {},
   "source": [
    "### Input Meta Data"
   ]
  },
  {
   "cell_type": "code",
   "execution_count": null,
   "id": "fadca9fd",
   "metadata": {},
   "outputs": [],
   "source": [
    "# Fill in meta data\n",
    "shot_data['clientTeam'] = 'UCLA'\n",
    "shot_data['Date'] = '4/12/24'\n",
    "shot_data['Division'] = 'Division 1'\n",
    "shot_data['Event'] = 'Dual-Match'\n",
    "shot_data.loc[0, 'lineupPosition'] = '1'                 # use.loc[0, .] to only assign to first row\n",
    "shot_data.loc[0, 'matchDetails'] = ''\n",
    "shot_data['matchVenue'] = 'Los Angeles, California'\n",
    "shot_data['opponentTeam'] = 'Stanford'\n",
    "shot_data['player1Name'] = 'Govind Nanda'\n",
    "shot_data['player2Name'] = 'Nishesh Basavareddy'\n",
    "shot_data['player1Hand'] = 'Right'\n",
    "shot_data['player2Hand'] = 'Right'\n",
    "shot_data['Round'] = ''\n",
    "shot_data['Surface'] = 'Hard'\n",
    "shot_data.loc[0, 'Notes'] = ''"
   ]
  },
  {
   "cell_type": "markdown",
   "id": "bbd06889",
   "metadata": {},
   "source": [
    "### Assign Player Names"
   ]
  },
  {
   "cell_type": "code",
   "execution_count": null,
   "id": "c20603a7",
   "metadata": {},
   "outputs": [],
   "source": [
    "player1_name = shot_data['player1Name'].iloc[0]\n",
    "player2_name = shot_data['player2Name'].iloc[0]\n",
    "p = shot_data['serverName'].unique()\n",
    "\n",
    "if (player1_name == None) or (player1_name == ''):\n",
    "    raise ValueError('player1Name is blank')\n",
    "\n",
    "if (player2_name == None) or (player2_name == ''):\n",
    "    raise ValueError('player1Name is blank')\n",
    "\n",
    "# Assign values in the serverName column\n",
    "shot_data['serverName'] = shot_data['serverName'].replace({'Player1': player1_name, 'Player2': player2_name})\n",
    "\n",
    "if not len(shot_data['serverName'].unique()) == 2:\n",
    "    print(shot_data['serverName'].unique())\n",
    "    raise ValueError('Unkown Name!')\n",
    "\n",
    "print('Check Passed ✓')"
   ]
  },
  {
   "cell_type": "markdown",
   "id": "29a91e9d",
   "metadata": {},
   "source": [
    "## Error Checks"
   ]
  },
  {
   "cell_type": "markdown",
   "id": "788c6973",
   "metadata": {},
   "source": [
    "#### Check for missing player1Hand and player2Hand"
   ]
  },
  {
   "cell_type": "code",
   "execution_count": null,
   "id": "48a8bc73",
   "metadata": {},
   "outputs": [],
   "source": [
    "player1_hand =  shot_data.at[0, 'player1Hand']\n",
    "player2_hand =  shot_data.at[0, 'player2Hand']\n",
    "\n",
    "if (player1_hand == None) or (player1_hand == ''):\n",
    "    raise ValueError('player1Hand has no value!')\n",
    "\n",
    "if (player2_hand == None) or (player2_hand == '') == None:\n",
    "    raise ValueError('player2Hand has no value!')\n",
    "\n",
    "print('Check Passed ✓')"
   ]
  },
  {
   "cell_type": "markdown",
   "id": "83cb5916-17e3-4620-b894-2cdfa9bf0747",
   "metadata": {
    "id": "83cb5916-17e3-4620-b894-2cdfa9bf0747"
   },
   "source": [
    "#### Check for missing 'Deuce' or 'Ad' sides in side column"
   ]
  },
  {
   "cell_type": "code",
   "execution_count": null,
   "id": "7115c9b3",
   "metadata": {},
   "outputs": [],
   "source": [
    "# Dataframe of all missing sides\n",
    "missing_sides = shot_data[~shot_data['side'].isin(['Deuce', 'Ad'])][['pointScore', 'gameScore', 'setScore','side', 'shotInRally']]\n",
    "\n",
    "if len(missing_sides) > 0:\n",
    "    display(missing_sides)\n",
    "    raise ValueError('Missing Deuce or Ad value in sides Column')\n",
    "else: print('Check Passed ✓')"
   ]
  },
  {
   "cell_type": "markdown",
   "id": "a5be8eab",
   "metadata": {},
   "source": [
    "####  Check pointNumber increases consecutively\n",
    "- Ignore if match video is bad"
   ]
  },
  {
   "cell_type": "code",
   "execution_count": null,
   "id": "60706209",
   "metadata": {},
   "outputs": [],
   "source": [
    "# Fill in pointNumber if blank\n",
    "if 'pointNumber' not in shot_data.columns or shot_data['pointNumber'].isnull().any():\n",
    "    point_starts = (shot_data['isPointStart'] == 1)\n",
    "    shot_data['pointNumber'] = point_starts.cumsum()\n",
    "\n",
    "# Check if pointNumber incresase consecutively\n",
    "point_numbers = shot_data['pointNumber'].unique()\n",
    "non_consecutive = [point_numbers[i] for i in range(1, len(point_numbers)) if point_numbers[i] != point_numbers[i-1] + 1]\n",
    "\n",
    "if non_consecutive:\n",
    "    non_consecutive_rows = shot_data[shot_data['pointNumber'].isin(non_consecutive)]\n",
    "    display(non_consecutive_rows[['pointScore', 'gameScore', 'setScore', 'pointNumber']])\n",
    "    raise ValueError(\"Non-consecutive point numbers found.\")\n",
    "else: print('Check Passed ✓')"
   ]
  },
  {
   "cell_type": "markdown",
   "id": "6d443221-db14-4598-bf2a-664dd32489f3",
   "metadata": {},
   "source": [
    "#### Check for NA's\n",
    "- all 0, except missing pointScore should match amount of tiebreak shots\n",
    "- side can have missing, for old tagger and not tagging side of each shot"
   ]
  },
  {
   "cell_type": "code",
   "execution_count": null,
   "id": "4ad4d3f7-6338-4e0b-a01a-683d3db80aee",
   "metadata": {
    "scrolled": false
   },
   "outputs": [],
   "source": [
    "# Count empty strings in each column\n",
    "empty_string_counts = ((shot_data.isna()).sum())\n",
    "non_zero_counts = empty_string_counts[(empty_string_counts == shot_data.shape[0])]\n",
    "\n",
    "na_counts = shot_data[[ 'pointScore', 'shotInRally', 'gameScore', 'setScore', 'side', 'serverName']].isna().sum()\n",
    "has_na = shot_data[['pointScore', 'shotInRally', 'gameScore', 'setScore', 'side', 'serverName']].isna().any().any()\n",
    "\n",
    "if has_na:\n",
    "    display(na_counts)\n",
    "    raise ValueError('Empty of cells in these columns')\n",
    "else: \n",
    "    print('Check Passed ✓')\n",
    "    display(non_zero_counts)"
   ]
  },
  {
   "cell_type": "markdown",
   "id": "03d9caf3-3614-4b70-b81b-33bb7df7cec3",
   "metadata": {},
   "source": [
    "####  Check for missing shotInRally rows"
   ]
  },
  {
   "cell_type": "code",
   "execution_count": null,
   "id": "1c8e3ec9-bc77-4ba1-925d-e1d3ad8f75f9",
   "metadata": {},
   "outputs": [],
   "source": [
    "# All rows of missing shotInRally\n",
    "empty_shot_rows = shot_data[shot_data['shotInRally'].isnull()]\n",
    "\n",
    "if not empty_shot_rows.empty:\n",
    "    display(empty_shot_rows[['pointScore', 'gameScore', 'setScore', 'pointStartTime', 'shotInRally']])\n",
    "else:\n",
    "    print('Check Passed ✓')\n"
   ]
  },
  {
   "cell_type": "markdown",
   "id": "74f2bd4e-0ef1-45f9-8eb3-1bce987236a8",
   "metadata": {},
   "source": [
    "#### Check for same amount of isPointStart and isPointEnd"
   ]
  },
  {
   "cell_type": "code",
   "execution_count": null,
   "id": "39dfe584-dd93-4f76-ad43-9b536e3bcf88",
   "metadata": {},
   "outputs": [],
   "source": [
    "# Count of isPointStart and isPointEnd\n",
    "num_point_start = shot_data['isPointStart'].sum()\n",
    "num_point_end = shot_data['isPointEnd'].sum()\n",
    "\n",
    "if num_point_start != num_point_end:\n",
    "    print(\"Number of rows with isPointStart = 1:\", num_point_start)\n",
    "    print(\"Number of rows with isPointEnd = 1:\", num_point_end)\n",
    "    raise ValueError(\"Error: count of isPointStart = 1 and isPointEnd = 1 are not the same.\")\n",
    "else: print('Check Passed ✓')"
   ]
  },
  {
   "cell_type": "markdown",
   "id": "5b82b4e8-e193-4430-b643-486afd26366e",
   "metadata": {},
   "source": [
    "\n",
    "#### Check missing isPointStart and isPointEnd\n"
   ]
  },
  {
   "cell_type": "code",
   "execution_count": null,
   "id": "a1bc596e",
   "metadata": {},
   "outputs": [],
   "source": [
    "missing_point_start = list()\n",
    "missing_point_end = list()\n",
    "\n",
    "for i in point_numbers:\n",
    "    current_df = shot_data[shot_data['pointNumber'] == i].reset_index(drop=True)\n",
    "    if not current_df.loc[0,'isPointStart'] == 1:\n",
    "        # Find the shot_data index of the missing isPointStart row\n",
    "        print(i)\n",
    "        index_start = shot_data.index[(shot_data['pointNumber'] == i) & (shot_data['shotInRally'] == 1)][0]\n",
    "        missing_point_start.append(index_start)\n",
    "\n",
    "    if not current_df.loc[len(current_df) - 1,'isPointEnd'] == 1:\n",
    "        # Find last shotInRally of current_df\n",
    "        last_rally = current_df['shotInRally'].unique()[-1]\n",
    "        index_end = shot_data.index[(shot_data['pointNumber'] == i) & (shot_data['shotInRally'] == last_rally)][0]\n",
    "        missing_point_end.append(index_end)\n",
    "\n",
    "if (len(missing_point_start) > 0) or (len(missing_point_end) > 0):\n",
    "    print('Number of rows with isPointStart = 1:', num_point_start)\n",
    "    print('Number of rows with isPointEnd = 1:', num_point_end, '\\n')\n",
    "    print('Missing isPointStart rows:')\n",
    "    display(shot_data.loc[missing_point_start])\n",
    "    print('Missing isPointEnd rows:')\n",
    "    display(shot_data.loc[missing_point_end])\n",
    "    raise ValueError('Missing values!')\n",
    "\n",
    "print('Check Passed ✓')"
   ]
  },
  {
   "cell_type": "markdown",
   "id": "3fec62fa",
   "metadata": {},
   "source": [
    "#### Check score for incorrect date format\n",
    "- accounts for all variations of dates eg. (0-00-0000, 0/0/0000)"
   ]
  },
  {
   "cell_type": "code",
   "execution_count": null,
   "id": "370044f2",
   "metadata": {},
   "outputs": [],
   "source": [
    "# Make Jan-00 back into 1-0 for Game/Set Score\n",
    "# Make Scores Strings not Date Time\n",
    "columns_to_convert = ['gameScore', 'setScore']\n",
    "shot_data[columns_to_convert] = shot_data[columns_to_convert].astype(object)\n",
    "\n",
    "# Define a mapping for month abbreviations\n",
    "month_mapping = {'Jan': '1', 'Feb': '2', 'Mar': '3', 'Apr': '4', 'May': '5', 'Jun': '6',\n",
    "                 'Jul': '7', 'Aug': '8', 'Sep': '9', 'Oct': '10', 'Nov': '11', 'Dec': '12'}\n",
    "\n",
    "# Function to convert string like 'Jan-00' to '1-0'\n",
    "def convert_score_string(score_str):\n",
    "    # Check if the string has a month abbreviation and a year ending with '00'\n",
    "    if re.match(r'^\\d{1,2}-[A-Za-z]{3}$', score_str):\n",
    "        # Extract year and month abbreviation\n",
    "        year, month = score_str.split('-')\n",
    "\n",
    "        # Remove leading zeros from the year\n",
    "        year = str(int(year))\n",
    "\n",
    "        # Replace month abbreviation with corresponding number\n",
    "        month_number = month_mapping.get(month, month)\n",
    "\n",
    "        # Concatenate the parts to form the transformed string\n",
    "        transformed_str = f'{year}-{month_number}'\n",
    "        return transformed_str\n",
    "\n",
    "    # Check if the string has a month abbreviation and a year with leading '0's\n",
    "    elif re.match(r'^[A-Za-z]{3}-\\d{1,2}$', score_str):\n",
    "        # Extract month abbreviation and year\n",
    "        month, year = score_str.split('-')\n",
    "\n",
    "        # Replace month abbreviation with corresponding number\n",
    "        month_number = month_mapping.get(month, month)\n",
    "\n",
    "        # Remove leading zeros from the year\n",
    "        year = str(int(year))\n",
    "\n",
    "        # Concatenate the parts to form the transformed string\n",
    "        transformed_str = f'{month_number}-{year}'\n",
    "        return transformed_str\n",
    "\n",
    "    # Check if the string has a date in the format 'month/day/year'\n",
    "    elif re.match(r'^\\d{1,2}/\\d{1,2}/\\d{4}$', score_str):\n",
    "        # Extract month, day, and year\n",
    "        month, day, year = score_str.split('/')\n",
    "\n",
    "        # Remove leading zeros from month and day\n",
    "        month = str(int(month))\n",
    "        day = str(int(day))\n",
    "\n",
    "        # Concatenate the parts to form the transformed string\n",
    "        transformed_str = f'{month}-{day}'\n",
    "        return transformed_str\n",
    "\n",
    "    # Check if the string has a date in the format 'month-day-year'\n",
    "    elif re.match(r'^\\d{1,2}-\\d{1,2}-\\d{4}$', score_str):\n",
    "        # Extract month, day, and year\n",
    "        month, day, year = score_str.split('-')\n",
    "\n",
    "        # Remove leading zeros from month and day\n",
    "        month = str(int(month))\n",
    "        day = str(int(day))\n",
    "\n",
    "        # Concatenate the parts to form the transformed string\n",
    "        transformed_str = f'{month}-{day}'\n",
    "        return transformed_str\n",
    "\n",
    "    return score_str\n",
    "\n",
    "# Apply the conversion function to the relevant columns in shot_data\n",
    "shot_data['gameScore'] = shot_data['gameScore'].apply(convert_score_string)\n",
    "shot_data['setScore'] = shot_data['setScore'].apply(convert_score_string)"
   ]
  },
  {
   "cell_type": "markdown",
   "id": "d8522b57-d0cc-43fc-b08c-47768bae5231",
   "metadata": {},
   "source": [
    "\n",
    "#### Check for incorrect game and set scores. "
   ]
  },
  {
   "cell_type": "code",
   "execution_count": null,
   "id": "6dc62692-a1a6-4d0c-9e3a-d15f3ce06b84",
   "metadata": {
    "scrolled": true
   },
   "outputs": [],
   "source": [
    "# Assuming shot_data is your DataFrame\n",
    "set_scores = shot_data['setScore'].unique()\n",
    "game_scores = shot_data['gameScore'].unique()\n",
    "\n",
    "print(\"Unique Set Scores:\\n\", set_scores)\n",
    "print(\"Unique Game Scores:\\n\", game_scores)"
   ]
  },
  {
   "cell_type": "markdown",
   "id": "4c415b10",
   "metadata": {},
   "source": [
    "\n",
    "### Check all rows where isPointStart does not start at beginning of rally"
   ]
  },
  {
   "cell_type": "code",
   "execution_count": null,
   "id": "d9f6d0f2",
   "metadata": {},
   "outputs": [],
   "source": [
    "filtered_rows = shot_data[(shot_data['isPointStart'] == 1) & (shot_data['shotInRally'] != 1)]\n",
    "\n",
    "if filtered_rows.empty:\n",
    "    print('Check Passed ✓')\n",
    "else:\n",
    "    display(filtered_rows)\n",
    "    raise ValueError('Rows where isPointStart = 1 and shotInRally != 1')"
   ]
  },
  {
   "cell_type": "markdown",
   "id": "dede4ccc",
   "metadata": {},
   "source": [
    "#### Find the rows where isPointEnd = 1 and shotInRally = 1 but is neither an ace or a double fault"
   ]
  },
  {
   "cell_type": "code",
   "execution_count": null,
   "id": "11411185",
   "metadata": {},
   "outputs": [],
   "source": [
    "filtered_rows = shot_data[\n",
    "    (shot_data['isPointEnd'] == 1) & \n",
    "    (shot_data['shotInRally'] == 1) & \n",
    "    (shot_data['firstServeIn'] != 0) &\n",
    "    (shot_data['secondServeIn'] != 0) &\n",
    "    (shot_data['isAce'] != 1)\n",
    "]\n",
    "\n",
    "if filtered_rows.empty:\n",
    "    print('Check Passed ✓')\n",
    "else:\n",
    "    display(filtered_rows)\n",
    "    raise ValueError('Rows where isPointEnd = 1, shotInRally = 1, firstServeIn and secondServeIn are both not 0, and isAce != 1')"
   ]
  },
  {
   "cell_type": "markdown",
   "id": "63e9d925",
   "metadata": {},
   "source": [
    "\n",
    "#### Check rows where there are duplicate isPointStart = 1 and isPointEnd points\n",
    "- WARNING: This will output rows that have pointScore such as \"40-40\", \"40-A\", \"A-40\" (Ad Scoring)"
   ]
  },
  {
   "cell_type": "code",
   "execution_count": null,
   "id": "1cb75856",
   "metadata": {},
   "outputs": [],
   "source": [
    "# Output rows where isPointStart is 1 and pointScore, gameScore, and setScore have the same value\n",
    "filtered_rows = shot_data[shot_data['isPointStart'] == 1]\n",
    "output_rows = filtered_rows[filtered_rows.duplicated(subset=['pointScore', 'gameScore', 'setScore'], keep=False)]\n",
    "\n",
    "if not output_rows.empty:\n",
    "    display(output_rows)\n",
    "    raise ValueError(\"Rows where isPointStart is 1 and pointScore, gameScore, and setScore have the same value:\")\n",
    "\n",
    "# Output rows where isPointEnd is 1 and pointScore, gameScore, and setScore have the same value\n",
    "filtered_rows = shot_data[shot_data['isPointEnd'] == 1]\n",
    "output_rows = filtered_rows[filtered_rows.duplicated(subset=['pointScore', 'gameScore', 'setScore'], keep=False)]\n",
    "\n",
    "if not output_rows.empty:\n",
    "    display(output_rows[['pointScore', 'gameScore', 'setScore', 'isPointStart']])\n",
    "    raise ValueError('Rows where isPointEnd is 1 and pointScore, gameScore, and setScore have the same value!')\n",
    "\n",
    "print('Check Passed ✓')\n"
   ]
  },
  {
   "cell_type": "markdown",
   "id": "079bdbe3",
   "metadata": {},
   "source": [
    "#### Chcek all the rows where isPointEnd != 1 and there is  isWinner, isErrorWideL, isErrorWideR, isErrorNet, isErrorLong"
   ]
  },
  {
   "cell_type": "code",
   "execution_count": null,
   "id": "9ca4b9e5",
   "metadata": {},
   "outputs": [],
   "source": [
    "point_error = shot_data[(shot_data['isPointEnd'] != 1) & \n",
    "                        (shot_data['isPointStart'] != 1) & # Added isPointStart: swingvision marks isErrorNet = 1 for serves\n",
    "                        ((shot_data['isWinner'] == 1) | \n",
    "                         (shot_data['isErrorNet'] == 1) | \n",
    "                         (shot_data['isErrorLong'] == 1) |\n",
    "                         (shot_data['isErrorWideL'] == 1) |\n",
    "                         (shot_data['isErrorWideR'] == 1))]\n",
    "\n",
    "point_error_numbers = point_error['pointNumber'].to_list()\n",
    "\n",
    "if len(point_error) > 0:\n",
    "    display(point_error)\n",
    "    raise ValueError('Manually check points', point_error_numbers)\n",
    "\n",
    "print('Check Passed ✓')"
   ]
  },
  {
   "cell_type": "markdown",
   "id": "1b5fe48e",
   "metadata": {},
   "source": [
    "#### Check all the rows where there is isPointEnd == 1 but there is no isWinner, isErrorWideL, isErrorWideR, isErrorNet, isErrorLong\n",
    "- Cj reccomendation: have this error check autmatically fill in how the point ends based on coordinate data"
   ]
  },
  {
   "cell_type": "code",
   "execution_count": null,
   "id": "793aa6a5",
   "metadata": {},
   "outputs": [],
   "source": [
    "point_error = shot_data[(shot_data['isPointEnd'] == 1) &\n",
    "                          (shot_data['isWinner'] != 1) &\n",
    "                          (shot_data['isErrorWideL'] != 1) &\n",
    "                          (shot_data['isErrorWideR'] != 1) &\n",
    "                          (shot_data['isErrorNet'] != 1) & \n",
    "                          (shot_data['isErrorLong'] != 1) &\n",
    "                          (shot_data['firstServeIn'] != 0) & \n",
    "                          (shot_data['secondServeIn'] != 0)]\n",
    "\n",
    "point_error_numbers = point_error['pointNumber'].to_list()\n",
    "\n",
    "if point_error.empty:\n",
    "    print('Check Passed ✓')\n",
    "else:\n",
    "\n",
    "    display(point_error)\n",
    "    raise ValueError('Manually check points', point_error_numbers)"
   ]
  },
  {
   "cell_type": "markdown",
   "id": "7afcb270",
   "metadata": {},
   "source": [
    "#### Check rows with mismatched serve in/serve zone"
   ]
  },
  {
   "cell_type": "code",
   "execution_count": null,
   "id": "fd55143b",
   "metadata": {},
   "outputs": [],
   "source": [
    "# Find indices of all rows with firstServeIn data\n",
    "first_serve_row = shot_data.index[shot_data['firstServeIn'].notnull()]\n",
    "# Find indices of all rows with firstServeZone data\n",
    "first_serve_placement_row = shot_data.index[shot_data['firstServeZone'].notnull()]\n",
    "# Check which indices are not found in one column but are found in the other\n",
    "mismatched_first_serve_rows = list(set(first_serve_row).difference(first_serve_placement_row))\n",
    "# Add 2 to the indices to match numbering of Google Sheets\n",
    "mismatched_first_serve_rows = [x+2 for x in mismatched_first_serve_rows]\n",
    "if not mismatched_first_serve_rows:\n",
    "    print(\"Check passed for first serves.\")\n",
    "else:\n",
    "    print(\"Rows where first serve in and first serve zone are not found together: \" + str(mismatched_first_serve_rows))\n",
    "\n",
    "second_serve_row = shot_data.index[shot_data['secondServeIn'].notnull()]\n",
    "second_serve_placement_row = shot_data.index[shot_data['secondServeZone'].notnull()]\n",
    "mismatched_second_serve_rows = list(set(second_serve_row).difference(first_serve_placement_row))\n",
    "mismatched_second_serve_rows = [x+2 for x in mismatched_second_serve_rows]\n",
    "if not mismatched_second_serve_rows:\n",
    "    print(\"Check passed for second serves.\")\n",
    "else:\n",
    "    print(\"Rows where second serve in and second serve zone are not found together: \" + str(mismatched_second_serve_rows))"
   ]
  },
  {
   "cell_type": "markdown",
   "id": "9aa7ed4f-7ebd-4c0b-b287-b8492bba44b6",
   "metadata": {},
   "source": [
    "## Add Columns"
   ]
  },
  {
   "cell_type": "markdown",
   "id": "a7d5e03b",
   "metadata": {},
   "source": [
    "#### tiebreakScore Column"
   ]
  },
  {
   "cell_type": "code",
   "execution_count": null,
   "id": "01c430f7",
   "metadata": {},
   "outputs": [],
   "source": [
    "def reverse_point_score(score):\n",
    "    if '-' in score:\n",
    "        parts = score.split('-')\n",
    "        return '-'.join(parts[::-1])\n",
    "    return score\n",
    "\n",
    "if 'tiebreakScore' not in shot_data.columns or shot_data['tiebreakScore'].isnull().any():\n",
    "    shot_data.loc[shot_data['gameScore'] == '6-6', 'tiebreakScore'] = shot_data['pointScore']\n",
    "    # Apply reverse_point_score function where serverName is 'Player2' and tiebreakScore is not NaN\n",
    "    shot_data.loc[\n",
    "    (shot_data['serverName'] == player2_name) & (shot_data['tiebreakScore'].notna()), \n",
    "    'tiebreakScore'] = shot_data.loc[\n",
    "    (shot_data['serverName'] == player2_name) & (shot_data['tiebreakScore'].notna()), \n",
    "    'tiebreakScore'\n",
    "    ].apply(reverse_point_score)\n",
    "\n",
    "# Set the pointScore to NaN where tiebreakScore is not NaN\n",
    "shot_data.loc[pd.notna(shot_data['tiebreakScore']), 'pointScore'] = np.nan\n"
   ]
  },
  {
   "cell_type": "markdown",
   "id": "a2f877ba-2c11-4bfa-b858-e9a7ce9f400d",
   "metadata": {},
   "source": [
    "#### returnerName Column"
   ]
  },
  {
   "cell_type": "code",
   "execution_count": null,
   "id": "a95e4421-a815-4347-96b0-a71ad91011a2",
   "metadata": {},
   "outputs": [],
   "source": [
    "def get_returner_name(server_name):\n",
    "    return player2_name if server_name == player1_name else player1_name\n",
    "\n",
    "shot_data['returnerName'] = shot_data['serverName'].apply(get_returner_name)\n",
    "print(f\"Player 1 = {player1_name}, Player 2 = {player2_name}\")"
   ]
  },
  {
   "cell_type": "markdown",
   "id": "7c8cd7f8-100c-4419-a4ad-057a93024379",
   "metadata": {},
   "source": [
    "#### shotHitBy Column"
   ]
  },
  {
   "cell_type": "code",
   "execution_count": null,
   "id": "359b8ee1-b6f1-4bad-b4c0-e0fd39e01ae1",
   "metadata": {},
   "outputs": [],
   "source": [
    "shot_data['shotHitBy'] = shot_data.apply(lambda row: row['serverName'] if row['shotInRally'] % 2 == 1 else row['returnerName'], axis=1)"
   ]
  },
  {
   "cell_type": "markdown",
   "id": "74920095-a63b-4e61-b350-d84587c217ae",
   "metadata": {},
   "source": [
    "#### isInsideOut and isInsideIn Column"
   ]
  },
  {
   "cell_type": "code",
   "execution_count": null,
   "id": "b91cca0c",
   "metadata": {},
   "outputs": [],
   "source": [
    "shot_data['InsideOut'] = None\n",
    "shot_data['InsideIn'] = None\n",
    "\n",
    "def inside_out(hit_by, side, fhbh, direction):\n",
    "    if hit_by == player1_name:\n",
    "        player_hand = player1_hand\n",
    "    else:\n",
    "        player_hand = player2_hand\n",
    "\n",
    "    if player_hand == \"Right\":\n",
    "        if side == \"Deuce\" and fhbh == \"Backhand\" and direction == \"Crosscourt\":\n",
    "            return 1\n",
    "        elif side == \"Ad\" and fhbh == \"Forehand\" and direction == \"Crosscourt\":\n",
    "            return 1\n",
    "    else:\n",
    "        if side == \"Ad\" and fhbh == \"Backhand\" and direction == \"Crosscourt\":\n",
    "            return 1\n",
    "        elif side == \"Deuce\" and fhbh == \"Forehand\" and direction == \"Crosscourt\":\n",
    "            return 1        \n",
    "            \n",
    "def inside_in(hit_by, side, fhbh, direction):\n",
    "    if hit_by == player1_name:\n",
    "        player_hand = player1_hand\n",
    "    else:\n",
    "        player_hand = player2_hand\n",
    "\n",
    "    if player_hand == \"Right\":\n",
    "        if side == \"Deuce\" and fhbh == \"Backhand\" and direction == \"Down the Line\":\n",
    "            return 1\n",
    "        elif side == \"Ad\" and fhbh == \"Forehand\" and direction == \"Down the Line\":\n",
    "            return 1\n",
    "    else:\n",
    "        if side == \"Ad\" and fhbh == \"Backhand\" and direction == \"Down the Line\":\n",
    "            return 1\n",
    "        elif side == \"Deuce\" and fhbh == \"Forehand\" and direction == \"Down the Line\":\n",
    "            return 1        \n",
    "\n",
    "shot_data['InsideOut'] = shot_data.apply(lambda x: inside_out(x['shotHitBy'], x['side'], x['shotFhBh'], x['shotDirection']), axis = 1)\n",
    "shot_data['InsideIn'] = shot_data.apply(lambda x: inside_in(x['shotHitBy'], x['side'], x['shotFhBh'], x['shotDirection']), axis = 1)"
   ]
  },
  {
   "cell_type": "markdown",
   "id": "5ce47455-e52a-4c29-846b-6ff44af87b62",
   "metadata": {},
   "source": [
    "#### isAce Column"
   ]
  },
  {
   "cell_type": "code",
   "execution_count": null,
   "id": "a14a32f6-db9d-44e8-ad59-32b48995eb23",
   "metadata": {},
   "outputs": [],
   "source": [
    "# Add the Ace column\n",
    "shot_data['isAce'] = None\n",
    "\n",
    "for index, row in shot_data.iterrows():\n",
    "    if row['isPointEnd'] == 1:\n",
    "        if row['shotInRally'] == 1: # last point is serve\n",
    "            if (row['firstServeIn'] == 1 or row['secondServeIn'] == 1): # either first or second serve went in\n",
    "                shot_data.at[index, 'isAce'] = 1"
   ]
  },
  {
   "cell_type": "markdown",
   "id": "5beb11c5-27f4-413a-a96c-a07431d1a797",
   "metadata": {},
   "source": [
    "#### isDoubleFault Column"
   ]
  },
  {
   "cell_type": "code",
   "execution_count": null,
   "id": "7365f350-9cb6-4c1a-ae51-8def184dddb4",
   "metadata": {},
   "outputs": [],
   "source": [
    "# Add the DoubleFault column\n",
    "shot_data['isDoubleFault'] = None\n",
    "\n",
    "for index, row in shot_data.iterrows():\n",
    "    if row['isPointEnd'] == 1:\n",
    "        if row['shotInRally'] == 1: # last point is serve\n",
    "            if (row['firstServeIn'] != 1 and row['secondServeIn'] != 1): # either first or second serve went in\n",
    "                shot_data.at[index, 'isDoubleFault'] = 1"
   ]
  },
  {
   "cell_type": "markdown",
   "id": "f8b2d1a4-6b15-49d8-82cf-451bf806402e",
   "metadata": {},
   "source": [
    "#### pointWonBy and lastShotError Columns"
   ]
  },
  {
   "cell_type": "code",
   "execution_count": null,
   "id": "d453c3e5-cf56-41a1-89ff-0db6f4ace548",
   "metadata": {},
   "outputs": [],
   "source": [
    "# Add the 'pointWonBy' column\n",
    "shot_data['pointWonBy'] = None\n",
    "\n",
    "# Add the 'lastShotError' column\n",
    "shot_data['lastShotError'] = None\n",
    "\n",
    "for index, row in shot_data.iterrows():\n",
    "    if row['isPointEnd'] == 1:\n",
    "        if row['shotInRally'] == 1: # last point is serve\n",
    "            if row['isAce'] == 1: \n",
    "                shot_data.at[index, 'pointWonBy'] = row['serverName']\n",
    "            elif row['isDoubleFault'] == 1: \n",
    "                shot_data.at[index, 'pointWonBy'] = row['returnerName']\n",
    "\n",
    "                \n",
    "        elif row['shotInRally'] != 1:\n",
    "            if row['isErrorWideR'] == 1 or row['isErrorWideL'] == 1 or row['isErrorNet'] == 1 or row['isErrorLong'] == 1: # if error\n",
    "                shot_data.at[index, 'lastShotError'] = 1\n",
    "                \n",
    "                if row['shotInRally'] % 2 == 0:\n",
    "                    shot_data.at[index, 'pointWonBy'] = row['serverName']\n",
    "                else:\n",
    "                    shot_data.at[index, 'pointWonBy'] = row['returnerName']\n",
    "        \n",
    "            elif row['isWinner'] == 1:\n",
    "                if row['shotInRally'] % 2 == 0:\n",
    "                    shot_data.at[index, 'pointWonBy'] = row['returnerName']\n",
    "                else:\n",
    "                    shot_data.at[index, 'pointWonBy'] = row['serverName']\n",
    "\n",
    "# Backward fill pointWonBy\n",
    "shot_data['pointWonBy'].bfill();"
   ]
  },
  {
   "cell_type": "markdown",
   "id": "bfbb8b2d-abc2-46bc-80eb-d78bd6f66fb9",
   "metadata": {},
   "source": [
    "#### serveResult and serveInPlacement Columns"
   ]
  },
  {
   "cell_type": "code",
   "execution_count": null,
   "id": "318eee77-8fa0-4da0-a8da-21656b027872",
   "metadata": {},
   "outputs": [],
   "source": [
    "conditions = [\n",
    "    (shot_data['isPointStart'] == 1) & (shot_data['firstServeIn'] == 1),\n",
    "    (shot_data['isPointStart'] == 1) & (shot_data['firstServeIn'] != 1) & (shot_data['secondServeIn'] == 1),\n",
    "    (shot_data['isPointStart'] == 1) & (shot_data['firstServeIn'] != 1) & (shot_data['secondServeIn'] != 1),]\n",
    "\n",
    "# Define the values to be assigned for each condition\n",
    "values_result = ['1st Serve In', '2nd Serve In', 'Double Fault']\n",
    "values_placement = [shot_data['firstServeZone'], shot_data['secondServeZone'], shot_data['secondServeZone']]\n",
    "\n",
    "# Use numpy.select to assign values based on conditions\n",
    "shot_data['serveResult'] = np.select(conditions, values_result, default='')\n",
    "shot_data['serveInPlacement'] = np.select(conditions, values_placement, default='')"
   ]
  },
  {
   "cell_type": "code",
   "execution_count": null,
   "id": "2af189b3-2ae2-403a-91c4-a5367e417f86",
   "metadata": {},
   "outputs": [],
   "source": [
    "shot_data.replace('', None, inplace=True)"
   ]
  },
  {
   "cell_type": "markdown",
   "id": "808ebf9e",
   "metadata": {},
   "source": [
    "#### depth Column"
   ]
  },
  {
   "cell_type": "code",
   "execution_count": null,
   "id": "7d7ded73",
   "metadata": {},
   "outputs": [],
   "source": [
    "def depth_metric(shotInRally, x, y, side):\n",
    "    \n",
    "    if (x >= -157.5) & (x <= 157.5):\n",
    "    \n",
    "        if side == 'Near':\n",
    "            if shotInRally % 2 == 0:\n",
    "                if -455 < y < -350: return 'Deep'\n",
    "                if -350 < y < 0: return 'Short'\n",
    "                if y < -455: return 'Long'\n",
    "\n",
    "            elif shotInRally % 2 == 1:\n",
    "                if 455 > y > 350: return 'Deep'\n",
    "                if 0 < y < 350: return 'Short'\n",
    "                if y > 455: return 'Long'\n",
    "\n",
    "        elif side == 'Far':\n",
    "            if shotInRally % 2 == 1:\n",
    "                if -455 < y < -350: return 'Deep'\n",
    "                if -350 < y < 0: return 'Short'\n",
    "                if y < -455: return 'Long'\n",
    "\n",
    "            elif shotInRally % 2 == 0:\n",
    "                if 455 > y > 350: return 'Deep'\n",
    "                if 0 < y < 350: return 'Short'\n",
    "                if y > 455: return 'Long'\n",
    "        \n",
    "shot_data['depth'] = shot_data.apply(lambda x: depth_metric(x['shotInRally'], x['shotLocationX'], x['shotLocationY'], x['serverFarNear']), axis=1)"
   ]
  },
  {
   "cell_type": "markdown",
   "id": "5c40881d",
   "metadata": {},
   "source": [
    "#### isAprroach Column"
   ]
  },
  {
   "cell_type": "code",
   "execution_count": null,
   "id": "7ebf2abd",
   "metadata": {},
   "outputs": [],
   "source": [
    "# NEED TO DO\n",
    "\n",
    "\n"
   ]
  },
  {
   "cell_type": "markdown",
   "id": "6e98322a",
   "metadata": {},
   "source": [
    "#### atNetPlayer1 and atNetPlayer2 Columns"
   ]
  },
  {
   "cell_type": "code",
   "execution_count": null,
   "id": "fe056bbf",
   "metadata": {},
   "outputs": [],
   "source": [
    "# Define the criteria for being at the player's net\n",
    "def is_at_player_net(x, y):\n",
    "    return 1 if -245 <= y <= 245 and -157.5 <= x <= 157.5 else ''\n",
    "\n",
    "player1Name = shot_data['player1Name'].loc[0] \n",
    "player2Name = shot_data['player2Name'].loc[0]\n",
    "\n",
    "# Apply the criteria based on the serverName\n",
    "shot_data.loc[shot_data['shotHitBy'] == player1Name, 'atNetPlayer1'] = shot_data.apply(lambda row: is_at_player_net(row['shotContactX'], row['shotContactY']), axis=1)\n",
    "shot_data.loc[shot_data['shotHitBy'] == player2Name, 'atNetPlayer2'] = shot_data.apply(lambda row: is_at_player_net(row['shotContactX'], row['shotContactY']), axis=1)"
   ]
  },
  {
   "cell_type": "markdown",
   "id": "a69a017a-9959-4eca-b083-edbc8b009e78",
   "metadata": {},
   "source": [
    "## Output ShotCSV"
   ]
  },
  {
   "cell_type": "code",
   "execution_count": null,
   "id": "cb74fcb2-47ea-43bd-b304-dd5e05f17df3",
   "metadata": {},
   "outputs": [],
   "source": [
    "player1NameNoSpace = shot_data.iloc[0]['player1Name'].replace(\" \", \"\")\n",
    "player2NameNoSpace = shot_data.iloc[0]['player2Name'].replace(\" \", \"\")\n",
    "\n",
    "# Save csv\n",
    "shot_data.to_csv(f'Shot_Visuals_{player1NameNoSpace}_{player2NameNoSpace}.csv', index=False)"
   ]
  },
  {
   "cell_type": "markdown",
   "id": "dd38774c-8826-4889-b85c-7b19567048ee",
   "metadata": {},
   "source": [
    "## Create PointCSV"
   ]
  },
  {
   "cell_type": "code",
   "execution_count": null,
   "id": "e50fad00-3f62-41c7-9d3f-87d19fdc6925",
   "metadata": {},
   "outputs": [],
   "source": [
    "# Creating point_df (with only 1 row for each pointNumber)\n",
    "point_df = shot_data.drop_duplicates(subset='pointNumber')[['pointNumber']]"
   ]
  },
  {
   "cell_type": "markdown",
   "id": "a57ecdf5-aaa6-4799-92e6-2845775401b8",
   "metadata": {},
   "source": [
    "#### player1Name and player2Name Columns"
   ]
  },
  {
   "cell_type": "code",
   "execution_count": null,
   "id": "f15c115d-4eb4-4eb3-9a6d-e4ff225c1385",
   "metadata": {},
   "outputs": [],
   "source": [
    "# Extract the first value of player1Name and player2Name from shot_data\n",
    "player1_name = shot_data['player1Name'].iloc[0]\n",
    "player2_name = shot_data['player2Name'].iloc[0]\n",
    "\n",
    "# Fill in the first value into all rows of point_df['player1Name'] and point_df['player2Name']\n",
    "point_df['player1Name'] = player1_name\n",
    "point_df['player2Name'] = player2_name"
   ]
  },
  {
   "cell_type": "markdown",
   "id": "deb74788-f2d1-4c96-98e0-9d0d3717c6a7",
   "metadata": {},
   "source": [
    "#### Scores Columns"
   ]
  },
  {
   "cell_type": "code",
   "execution_count": null,
   "id": "ee01bdd1-0815-4eb5-9d0b-7cd0f0749a38",
   "metadata": {},
   "outputs": [],
   "source": [
    "point_df['pointScore'] = shot_data.groupby('pointNumber')['pointScore'].first().values\n",
    "point_df['gameScore'] = shot_data.groupby('pointNumber')['gameScore'].first().values\n",
    "point_df['setScore'] = shot_data.groupby('pointNumber')['setScore'].first().values\n",
    "point_df['tiebreakScore'] = shot_data.groupby('pointNumber')['tiebreakScore'].first().values"
   ]
  },
  {
   "cell_type": "markdown",
   "id": "14fe84b7-38de-4c4a-97a2-17aca9281bd8",
   "metadata": {},
   "source": [
    "#### side Column"
   ]
  },
  {
   "cell_type": "code",
   "execution_count": null,
   "id": "4d250819-706d-4cdf-ba3e-bc2a48a323bb",
   "metadata": {},
   "outputs": [],
   "source": [
    "# Group shot_data by 'pointNumber' and get the first 'side' value for each group\n",
    "side_values = shot_data.groupby('pointNumber')['side'].first().reset_index()\n",
    "point_df['side'] = side_values['side'].values"
   ]
  },
  {
   "cell_type": "markdown",
   "id": "0da6808a-148a-4a16-be9a-dcf1902c385a",
   "metadata": {},
   "source": [
    "#### serverName, returnerName, and team Columns"
   ]
  },
  {
   "cell_type": "code",
   "execution_count": null,
   "id": "062f1793-501f-4662-b5f9-606d4d44d97f",
   "metadata": {},
   "outputs": [],
   "source": [
    "# Adds Server and Returner Names and pointScore\n",
    "point_df['serverName'] = shot_data.groupby('pointNumber')['serverName'].first().values\n",
    "point_df['returnerName'] = shot_data.groupby('pointNumber')['returnerName'].first().values\n",
    "\n",
    "client_team_value = shot_data.loc[0, 'clientTeam']\n",
    "opponent_team_value = shot_data.loc[0, 'opponentTeam']\n",
    "\n",
    "point_df['clientTeam'] = client_team_value\n",
    "point_df['opponentTeam'] = opponent_team_value"
   ]
  },
  {
   "cell_type": "markdown",
   "id": "b2aa7da7-feee-49a5-9598-71c9738584cb",
   "metadata": {},
   "source": [
    "#### pointStartTime, pointEndPosition, and Duration Columns"
   ]
  },
  {
   "cell_type": "code",
   "execution_count": null,
   "id": "bc3a101c-f6f7-410c-bae1-f248d85614df",
   "metadata": {},
   "outputs": [],
   "source": [
    "# Add Start and End times per point\n",
    "for index, row in shot_data.iterrows():\n",
    "    point_number = row['pointNumber']\n",
    "    \n",
    "    if row['isPointStart'] == 1:\n",
    "        point_df.loc[point_df['pointNumber'] == point_number, 'Position'] = row['pointStartTime']\n",
    "    if row['isPointEnd'] == 1:\n",
    "        point_df.loc[point_df['pointNumber'] == point_number, 'pointEndPosition'] = row['pointEndTime']\n",
    "\n",
    "# Add Duration\n",
    "point_df['Duration'] = point_df['pointEndPosition'] - point_df['Position']"
   ]
  },
  {
   "cell_type": "markdown",
   "id": "ab9a88ef-3f8a-42c1-b81c-50b03c2fc853",
   "metadata": {},
   "source": [
    "#### rallyCount Column"
   ]
  },
  {
   "cell_type": "code",
   "execution_count": null,
   "id": "c69f0435-3385-448e-8d1e-f60bad6bbfb9",
   "metadata": {},
   "outputs": [],
   "source": [
    "# Find the highest shotInRally for each pointNumber in shot_data\n",
    "max_rally_per_point = shot_data.groupby('pointNumber')['shotInRally'].max().reset_index()\n",
    "point_df['rallyCount'] = list(max_rally_per_point['shotInRally'])\n",
    "\n",
    "# Add 'rallyCountFreq' column \n",
    "point_df['rallyCountFreq'] = point_df['rallyCount'].apply(lambda x: '1-4' if 1 <= x <= 4 else \n",
    "                                                          ('5-8' if 5 <= x <= 8 else \n",
    "                                                           ('9-12' if 9 <= x <= 12 else \n",
    "                                                            ('13+' if x >= 13 else 'Error'))))\n"
   ]
  },
  {
   "cell_type": "markdown",
   "id": "6d73c5aa-9ba2-428b-80e8-5a85f7fbb4a1",
   "metadata": {},
   "source": [
    "#### Serve Columns\n",
    "- firstServeIn\n",
    "- secondServeIn\n",
    "- serveResult\n",
    "- serveInPlacement\n",
    "- firstServeZone\n",
    "- secondServeZone"
   ]
  },
  {
   "cell_type": "code",
   "execution_count": null,
   "id": "ab2ae70f-ad58-4d53-b229-44044ad391c8",
   "metadata": {},
   "outputs": [],
   "source": [
    "point_df['firstServeIn'] = 0\n",
    "point_df['secondServeIn'] = 0\n",
    "\n",
    "for point_number in shot_data['pointNumber'].unique():\n",
    "    # Assign firstServeIn \n",
    "    if any((shot_data['pointNumber'] == point_number) & (shot_data['firstServeIn'] == 1)):\n",
    "        point_df.loc[point_df['pointNumber'] == point_number, 'firstServeIn'] = 1\n",
    "    # Assign secondServeIn\n",
    "    if any((shot_data['pointNumber'] == point_number) & (shot_data['secondServeIn'] == 1)):\n",
    "        point_df.loc[point_df['pointNumber'] == point_number, 'secondServeIn'] = 1\n",
    "\n",
    "# Add serveResult and serveInPlacement\n",
    "start_points = shot_data[shot_data['isPointStart'] == 1]\n",
    "point_df['serveResult'] = start_points['serveResult'].values\n",
    "point_df['serveInPlacement'] = start_points['serveInPlacement'].values\n",
    "\n",
    "# Add firstServeZone and secondServeZone\n",
    "serve_zones = shot_data.loc[shot_data['shotInRally'] == 1, ['pointNumber', 'firstServeZone', 'secondServeZone', 'firstServeIn', 'secondServeIn']].drop_duplicates()\n",
    "point_df['firstServeZone'] = shot_data.groupby('pointNumber')['firstServeZone'].first().values\n",
    "point_df['secondServeZone'] = shot_data.groupby('pointNumber')['secondServeZone'].first().values"
   ]
  },
  {
   "cell_type": "markdown",
   "id": "eb67c372-56c0-41d2-b972-84b747cf0cd1",
   "metadata": {},
   "source": [
    "#### Ace Column"
   ]
  },
  {
   "cell_type": "code",
   "execution_count": null,
   "id": "dccd8e5d-c4aa-42a9-9131-a950fd9c1fc3",
   "metadata": {},
   "outputs": [],
   "source": [
    "point_df['isAce'] = ((point_df['rallyCount'] == 1) & ((point_df['serveResult'] != \"Double Fault\")))"
   ]
  },
  {
   "cell_type": "markdown",
   "id": "323be033-ebbe-4692-942e-345f68f721c7",
   "metadata": {},
   "source": [
    "#### Server Coordinate Data Columns"
   ]
  },
  {
   "cell_type": "code",
   "execution_count": null,
   "id": "75d07ff9-83fa-4edd-9009-80c3ad5c10bf",
   "metadata": {},
   "outputs": [],
   "source": [
    "# Add serverFarNear\n",
    "point_df['serverFarNear'] = shot_data.groupby('pointNumber')['serverFarNear'].first().values\n",
    "\n",
    "# Add firstServeXCoord and firstServeYCoord\n",
    "point_df['firstServeXCoord'] = shot_data.groupby('pointNumber')['firstServeXCoord'].first().values\n",
    "point_df['firstServeYCoord'] = shot_data.groupby('pointNumber')['firstServeYCoord'].first().values\n",
    "\n",
    "# Add secondServeXCoord and secondServeYCoord\n",
    "point_df['secondServeXCoord'] = shot_data.groupby('pointNumber')['secondServeXCoord'].first().values\n",
    "point_df['secondServeYCoord'] = shot_data.groupby('pointNumber')['secondServeYCoord'].first().values"
   ]
  },
  {
   "cell_type": "markdown",
   "id": "3e3a3730-dac7-44f0-b03c-de912ab7b0d5",
   "metadata": {},
   "source": [
    "#### Return Columns"
   ]
  },
  {
   "cell_type": "code",
   "execution_count": null,
   "id": "c8456a4a-2faf-401c-ade1-180c6c28f40a",
   "metadata": {},
   "outputs": [],
   "source": [
    "point_df['returnDirection'] = None\n",
    "point_df['returnFhBh'] = None\n",
    "\n",
    "for point_number in shot_data['pointNumber'].unique():\n",
    "    # shotInRally == 2 for returns\n",
    "    if 2 in shot_data.loc[shot_data['pointNumber'] == point_number, 'shotInRally'].values:\n",
    "        row_with_return_info = shot_data[(shot_data['pointNumber'] == point_number) & (shot_data['shotInRally'] == 2)].iloc[0]\n",
    "\n",
    "        # Add/assign returnDirection and returnFhBh\n",
    "        point_df.loc[point_df['pointNumber'] == point_number, 'returnDirection'] = row_with_return_info['shotDirection']\n",
    "        point_df.loc[point_df['pointNumber'] == point_number, 'returnFhBh'] = row_with_return_info['shotFhBh']"
   ]
  },
  {
   "cell_type": "markdown",
   "id": "c33cb300-0c70-49d2-bb4b-e76d4853de0a",
   "metadata": {},
   "source": [
    "#### errorType Column"
   ]
  },
  {
   "cell_type": "code",
   "execution_count": null,
   "id": "f10972b3-884a-4e58-9d81-ab0d9704bd23",
   "metadata": {},
   "outputs": [],
   "source": [
    "# Create an empty DataFrame to store the results\n",
    "error_results = pd.DataFrame(columns=['errorType', 'pointNumber'])\n",
    "\n",
    "# Iterate through entire shot_data\n",
    "for index, row in shot_data.iterrows():\n",
    "    pointNumber = row['pointNumber']\n",
    "    point_error_value = None\n",
    "    \n",
    "    if row['isErrorWideR'] == 1:\n",
    "        point_error_value = 'Wide Right'\n",
    "    elif row['isErrorWideL'] == 1:\n",
    "        point_error_value = 'Wide Left'\n",
    "    elif 'isErrorNet' in row and row['isErrorNet'] == 1:\n",
    "        point_error_value = 'Net'\n",
    "    elif row['isErrorLong'] == 1:\n",
    "        point_error_value = 'Long'\n",
    "    \n",
    "\n",
    "    # If an error is found, append the result to the error_results DataFrame\n",
    "    if point_error_value is not None:\n",
    "        error_results = pd.concat([error_results, pd.DataFrame({'pointNumber': [pointNumber], 'errorType': [point_error_value]})], ignore_index=True)\n",
    "\n",
    "\n",
    "# Drop duplicates based on 'pointNumber'\n",
    "error_results = error_results.drop_duplicates(subset=['pointNumber'])"
   ]
  },
  {
   "cell_type": "code",
   "execution_count": null,
   "id": "a9b428e1-322f-4908-b89f-2a7c38667504",
   "metadata": {},
   "outputs": [],
   "source": [
    "# Create a dictionary mapping 'pointNumber' to 'errorType' in error_results\n",
    "error_type_mapping = dict(zip(error_results['pointNumber'], error_results['errorType']))\n",
    "\n",
    "# Create 'errorType' column in point_df based on the mapping\n",
    "point_df['errorType'] = point_df['pointNumber'].map(error_type_mapping)\n",
    "\n",
    "point_df = point_df.replace({np.nan: None})"
   ]
  },
  {
   "cell_type": "markdown",
   "id": "60e73b6b-2a6f-4a29-9110-010eefc4021b",
   "metadata": {},
   "source": [
    "#### returnError Column"
   ]
  },
  {
   "cell_type": "code",
   "execution_count": null,
   "id": "4b6b3aa8-be4c-4fe7-ad30-f3a8b58fde86",
   "metadata": {},
   "outputs": [],
   "source": [
    "def get_return_error(row):\n",
    "    if row['rallyCount'] == 2:\n",
    "        return row['errorType']\n",
    "    else:\n",
    "        return None\n",
    "\n",
    "point_df.loc[point_df['pointNumber'] == point_number, 'serveInPlacement'] = shot_data['secondServeZone']  \n",
    "\n",
    "# Apply the functions to create the new columns\n",
    "point_df['returnError'] = point_df.apply(get_return_error, axis=1)\n"
   ]
  },
  {
   "cell_type": "markdown",
   "id": "9016ca68-379b-4af0-9d34-17e9dea6de06",
   "metadata": {},
   "source": [
    "#### lastShot Columns"
   ]
  },
  {
   "cell_type": "code",
   "execution_count": null,
   "id": "d82dd333-70de-4a33-b493-cca692cde241",
   "metadata": {},
   "outputs": [],
   "source": [
    "point_df['lastShotDirection'] = None\n",
    "point_df['lastShotFhBh'] = None\n",
    "point_df['lastShotHitBy'] = None  \n",
    "point_df['lastShotResult'] = None  \n",
    "\n",
    "# Iterate through unique pointNumbers in shot_data\n",
    "for point_number in shot_data['pointNumber'].unique():\n",
    "    # Check if isPointEnd == 1 exists for the given pointNumber\n",
    "    if 1 in shot_data.loc[shot_data['pointNumber'] == point_number, 'isPointEnd'].values:\n",
    "        # Get the information from the corresponding row\n",
    "        row_with_lastshot_info = shot_data[(shot_data['pointNumber'] == point_number) & (shot_data['isPointEnd'] == 1)].iloc[0]\n",
    "\n",
    "        # Assign values to 'lastShotDirection' and 'lastShotFhBh' columns\n",
    "        point_df.loc[point_df['pointNumber'] == point_number, 'lastShotDirection'] = row_with_lastshot_info['shotDirection']\n",
    "        point_df.loc[point_df['pointNumber'] == point_number, 'lastShotFhBh'] = row_with_lastshot_info['shotFhBh']\n",
    "        point_df.loc[point_df['pointNumber'] == point_number, 'lastShotHitBy'] = row_with_lastshot_info['shotHitBy']\n",
    "        \n",
    "        # Determine lastShotResult based on conditions\n",
    "        if row_with_lastshot_info['isWinner'] == 1 and not row_with_lastshot_info['isAce']:\n",
    "            point_df.loc[point_df['pointNumber'] == point_number, 'lastShotResult'] = \"Winner\"\n",
    "        elif row_with_lastshot_info['lastShotError'] == 1:\n",
    "            point_df.loc[point_df['pointNumber'] == point_number, 'lastShotResult'] = \"Error\""
   ]
  },
  {
   "cell_type": "markdown",
   "id": "f86354a2-0aca-4d0b-9e61-5d5f93c2a6d8",
   "metadata": {},
   "source": [
    "#### pointWonBy Column"
   ]
  },
  {
   "cell_type": "code",
   "execution_count": null,
   "id": "072c95c3-a8cd-448c-8ce8-88b5288316bb",
   "metadata": {},
   "outputs": [],
   "source": [
    "# Initialize variables to keep track of the state\n",
    "prev_point_number = None\n",
    "point_won_by_list = []\n",
    "\n",
    "# Iterate through the DataFrame\n",
    "for index, row in shot_data.iterrows():\n",
    "    if row['isPointEnd'] == 1:\n",
    "        # Check if pointNumber is different and consecutively increasing\n",
    "        if prev_point_number is None or row['pointNumber'] == prev_point_number + 1:\n",
    "            # Append pointWonBy to the list\n",
    "            point_won_by_list.append(row['pointWonBy'])\n",
    "            prev_point_number = row['pointNumber']\n",
    "        else:\n",
    "            raise ValueError(\"Error: Point numbers are not different or consecutively increasing.\")\n",
    "            break\n",
    "\n",
    "# Add point_won_by_list as a new column to point_df\n",
    "point_df['pointWonBy'] = point_won_by_list"
   ]
  },
  {
   "cell_type": "markdown",
   "id": "f95b7b48-0466-45c5-88de-91e830549c35",
   "metadata": {},
   "source": [
    "#### isExcitingPoint Column"
   ]
  },
  {
   "cell_type": "code",
   "execution_count": null,
   "id": "bcb5d70f-9ba3-4e1b-a91a-cf8749383d86",
   "metadata": {},
   "outputs": [],
   "source": [
    "point_df['isExcitingPoint'] = shot_data.groupby('pointNumber')['isExcitingPoint'].count()"
   ]
  },
  {
   "cell_type": "markdown",
   "id": "60aebf71-65aa-4d1d-8fec-ea650c4ae3be",
   "metadata": {},
   "source": [
    "#### isBreakPoint Column"
   ]
  },
  {
   "cell_type": "code",
   "execution_count": null,
   "id": "77ec29ea",
   "metadata": {},
   "outputs": [],
   "source": [
    "break_point_values = ['0-40', '15-40', '30-40', '40-40']\n",
    "point_df['isBreakPoint'] = point_df['pointScore'].isin(break_point_values)"
   ]
  },
  {
   "cell_type": "markdown",
   "id": "c254558f",
   "metadata": {},
   "source": [
    "#### atNetPlayer1 and atNetPlayer2 Columns"
   ]
  },
  {
   "cell_type": "code",
   "execution_count": null,
   "id": "36d51032-7be4-4e1c-81e8-6888f389660f",
   "metadata": {},
   "outputs": [],
   "source": [
    "for i in point_numbers:\n",
    "    # atNetPlayer1\n",
    "    if any((shot_data['pointNumber'] == i) & (shot_data['atNetPlayer1'] == 1)):\n",
    "        point_df.loc[point_df['pointNumber'] == i, 'atNetPlayer1'] = 1\n",
    "    # atNetPlayer2\n",
    "    if any((shot_data['pointNumber'] == i) & (shot_data['atNetPlayer2'] == 1)):\n",
    "        point_df.loc[point_df['pointNumber'] == i, 'atNetPlayer2'] = 1\n",
    "\n",
    "# Add atNetPlayer Columns\n",
    "point_df['atNetPlayer1'] = point_df['atNetPlayer1'].replace({0: \"\", 1: player1_name})\n",
    "point_df['atNetPlayer2'] = point_df['atNetPlayer2'].replace({0: \"\", 1: player2_name})"
   ]
  },
  {
   "cell_type": "markdown",
   "id": "7d091079-a2ba-485c-8abb-71acb4df66f6",
   "metadata": {},
   "source": [
    "#### setNum Column"
   ]
  },
  {
   "cell_type": "code",
   "execution_count": null,
   "id": "6f762139-8377-4e82-90e1-5a6b474d0375",
   "metadata": {},
   "outputs": [],
   "source": [
    "point_df['setNum'] = point_df['setScore'].apply(lambda x: sum(int(char) for char in x if char.isdigit()) + 1)"
   ]
  },
  {
   "cell_type": "markdown",
   "id": "2ab0f1b2",
   "metadata": {},
   "source": [
    "### Add Columns: Depths Count (Short, Deep)\n",
    "#### NEED TO DO"
   ]
  },
  {
   "cell_type": "code",
   "execution_count": null,
   "id": "af8d08b8",
   "metadata": {},
   "outputs": [],
   "source": [
    "# Add counts for each player on how many short and deep balls they hit in the point (group by pointNumber)\n",
    "# - don't have to do long since we already know what points end with isErrorLong (and also isErrorNet)\n",
    "\n",
    "\n",
    "shot_data['deep'] = np.where(shot_data['depth'] == 'Deep', 1, 0)\n",
    "shot_data['short'] = np.where(shot_data['depth'] == 'Short', 1, 0)\n",
    "\n",
    "\n",
    "#point_df['deepCountPlayer1'] = shot_data.groupby(['pointNumber', 'player1Name'])['deep'].sum().values\n",
    "#point_df['shortCountPlayer1'] = shot_data.groupby(['pointNumber', 'player1Name'])['short'].sum().values\n",
    "\n",
    "#point_df['deepCountPlayer2'] = shot_data.groupby(['pointNumber', 'player2Name'])['deep'].sum().values\n",
    "#point_df['shortCountPlayer2'] = shot_data.groupby(['pointNumber', 'player2Name'])['short'].sum().values\n",
    "\n",
    "\n",
    "\n",
    "### attempt 2:\n",
    "\n",
    "deep_group = shot_data.pivot_table(index='pointNumber', columns='shotHitBy', values='deep', aggfunc='sum')\n",
    "deep_group.columns = ['deepCountPlayer1', 'deepCountPlayer2']\n",
    "# change NaN's from double faults to 0?\n",
    "deep_group.fillna(0, inplace=True)\n",
    "\n",
    "\n",
    "short_group = shot_data.pivot_table(index='pointNumber', columns='shotHitBy', values='short', aggfunc='sum')\n",
    "short_group.columns = ['shortCountPlayer1', 'shortCountPlayer2']\n",
    "# change NaN's from double faults to 0?\n",
    "short_group.fillna(0, inplace=True)\n",
    "\n",
    "\n",
    "point_df = pd.merge(point_df, deep_group, how='left', on='pointNumber')\n",
    "point_df = pd.merge(point_df, short_group, how='left', on='pointNumber')"
   ]
  },
  {
   "cell_type": "markdown",
   "id": "c42390e3",
   "metadata": {},
   "source": [
    "### Add Column: Game Number, Set Number, Game/Set/Point for each player\n",
    "- NEED TO DO: Fix pointscore"
   ]
  },
  {
   "cell_type": "code",
   "execution_count": null,
   "id": "9a604377",
   "metadata": {},
   "outputs": [],
   "source": [
    "point_df[['player1SetScore', 'player2SetScore']] = point_df['setScore'].str.split('-', expand=True)\n",
    "point_df[['player1GameScore', 'player2GameScore']] = point_df['gameScore'].str.split('-', expand=True)\n",
    "point_df[['player1PointScore', 'player2PointScore']] = point_df['pointScore'].str.split('-', expand=True)\n",
    "if not point_df['tiebreakScore'].isnull().all() and not point_df['tiebreakScore'].eq(\"\").all():\n",
    "    # Perform the operation only when tiebreakScore is not empty\n",
    "    point_df[['player1TiebreakScore', 'player2TiebreakScore']] = point_df['tiebreakScore'].str.split('-', expand=True)\n",
    "else:\n",
    "    # Set player1TiebreakScore and player2TiebreakScore to NaN\n",
    "    point_df['player1TiebreakScore'] = np.nan\n",
    "    point_df['player2TiebreakScore'] = np.nan\n",
    "    \n",
    "def calculate_game_number(score):\n",
    "    return int(score.split('-')[0]) + int(score.split('-')[1]) + 1\n",
    "\n",
    "# Apply the function to create the 'gameNumber' column\n",
    "point_df['gameNumber'] = point_df['gameScore'].apply(calculate_game_number)"
   ]
  },
  {
   "cell_type": "markdown",
   "id": "c07b8392-9f9d-4768-bef3-8217effe0c97",
   "metadata": {},
   "source": [
    "## Error Check 19: \n",
    "#### Output Game Number in order: Should be consecutive increasing. Ex: 1,2,3,4,5,6. End of Set 1. 1,2,3,4,5,6,7,8\n",
    "- NEED TO DO: Move to error checking"
   ]
  },
  {
   "cell_type": "code",
   "execution_count": null,
   "id": "07889dd3-4887-495d-9536-30d0b799b14e",
   "metadata": {},
   "outputs": [],
   "source": [
    "game_numbers = point_df['gameNumber'].tolist()\n",
    "\n",
    "# Initialize variables\n",
    "seen = set()\n",
    "prev = None\n",
    "\n",
    "# Iterate through gameNumber column\n",
    "for num in game_numbers:\n",
    "    # If the number is not in seen or it's different from the previous one, print it\n",
    "    if num not in seen or num != prev:\n",
    "        print(num, end=', ')\n",
    "    # If the number is the same as the previous one but not consecutive, print it\n",
    "    elif num == prev and num not in seen:\n",
    "        print(num, end=', ')\n",
    "    # Update seen set and prev variable\n",
    "    seen.add(num)\n",
    "    prev = num"
   ]
  },
  {
   "cell_type": "markdown",
   "id": "528a0c89-8948-43be-8d37-b844a061d6b7",
   "metadata": {},
   "source": [
    "#### player1ServeResult Column"
   ]
  },
  {
   "cell_type": "code",
   "execution_count": null,
   "id": "c2362f99-6beb-4821-8880-a7717298d872",
   "metadata": {},
   "outputs": [],
   "source": [
    "# Add the 'player1ServeResult' column\n",
    "point_df['player1ServeResult'] = None\n",
    "\n",
    "point_df.loc[point_df['serverName'] == point_df['player1Name'], 'player1ServeResult'] = point_df['serveResult']\n",
    "point_df.loc[point_df['isAce'] == True, 'player1ServeResult'] = 'Ace'"
   ]
  },
  {
   "cell_type": "markdown",
   "id": "12706269-25d1-4c42-8200-6e4ccdeef2ab",
   "metadata": {},
   "source": [
    "#### player1ServePlacement Column"
   ]
  },
  {
   "cell_type": "code",
   "execution_count": null,
   "id": "096d87b3-5048-493d-9444-99549d3afa85",
   "metadata": {},
   "outputs": [],
   "source": [
    "# Add the 'player1ServePlacement' column\n",
    "point_df['player1ServePlacement'] = None\n",
    "point_df.loc[point_df['serverName'] == point_df['player1Name'], 'player1ServePlacement'] = point_df['side'] + ': ' + point_df['serveInPlacement']"
   ]
  },
  {
   "cell_type": "markdown",
   "id": "368139a0-a088-44d1-9603-3f15c4c9a92b",
   "metadata": {},
   "source": [
    "#### player1ReturnPlacement Column"
   ]
  },
  {
   "cell_type": "code",
   "execution_count": null,
   "id": "e6c850aa-b0bc-497e-a2b8-ba9b935287b1",
   "metadata": {},
   "outputs": [],
   "source": [
    "# Add the 'player1ReturnPlacement' column\n",
    "point_df['player1ReturnPlacement'] = None\n",
    "\n",
    "# Set player1ServePlacement based on conditions\n",
    "point_df.loc[point_df['returnerName'] == point_df['player1Name'], 'player1ReturnPlacement'] = point_df['returnDirection']"
   ]
  },
  {
   "cell_type": "markdown",
   "id": "1dbe59a6-7462-470a-8655-4ac199d5c678",
   "metadata": {},
   "source": [
    "#### player1ReturnFhBh Column"
   ]
  },
  {
   "cell_type": "code",
   "execution_count": null,
   "id": "12563728-af42-4207-bd96-3185ff9b1325",
   "metadata": {},
   "outputs": [],
   "source": [
    "# Add the 'player1ReturnFhBh' column\n",
    "point_df['player1ReturnFhBh'] = None\n",
    "\n",
    "# Set player1ServePlacement based on conditions\n",
    "point_df.loc[point_df['returnerName'] == point_df['player1Name'], 'player1ReturnFhBh'] = point_df['returnFhBh']"
   ]
  },
  {
   "cell_type": "markdown",
   "id": "6153038d-b0fb-4a4a-a6ef-964f5ba94d10",
   "metadata": {},
   "source": [
    "#### player1LastShotPlacement Column"
   ]
  },
  {
   "cell_type": "code",
   "execution_count": null,
   "id": "8a766537-32fa-4dee-b49b-05403db0fca6",
   "metadata": {},
   "outputs": [],
   "source": [
    "# Add the 'player1LastShotFhBh' column\n",
    "point_df['player1LastShotPlacement'] = None\n",
    "\n",
    "# Set player1ServePlacement based on conditions\n",
    "point_df.loc[point_df['lastShotHitBy'] == point_df['player1Name'], 'player1LastShotPlacement'] = point_df['lastShotDirection']"
   ]
  },
  {
   "cell_type": "markdown",
   "id": "0c6cb1ae-ea60-4d85-93ba-890ed98180b4",
   "metadata": {},
   "source": [
    "#### player1LastShotFhBh Column"
   ]
  },
  {
   "cell_type": "code",
   "execution_count": null,
   "id": "b3657d3b-ba7d-43e7-9735-9674e6a7a6ad",
   "metadata": {},
   "outputs": [],
   "source": [
    "# Add the 'player1LastShotFhBh' column\n",
    "point_df['player1LastShotFhBh'] = None\n",
    "\n",
    "# Set player1ServePlacement based on conditions\n",
    "point_df.loc[point_df['lastShotHitBy'] == point_df['player1Name'], 'player1LastShotFhBh'] = point_df['lastShotFhBh']"
   ]
  },
  {
   "cell_type": "markdown",
   "id": "7c843db5-492a-4b4b-9e73-18e82782b18d",
   "metadata": {},
   "source": [
    "#### player1LastShotResult Column"
   ]
  },
  {
   "cell_type": "code",
   "execution_count": null,
   "id": "a5d72b7c-175e-4389-9c1d-b87c905f07fd",
   "metadata": {},
   "outputs": [],
   "source": [
    "# Add the 'player1LastShotResult' column\n",
    "point_df['player1LastShotResult'] = None\n",
    "\n",
    "# Set player1LastShotResult based on conditions, excluding 'Ace' and 'Double Fault'\n",
    "point_df.loc[\n",
    "    (point_df['lastShotHitBy'] == point_df['player1Name']) & \n",
    "    ~point_df['player1ServeResult'].isin(['Ace', 'Double Fault']), \n",
    "    'player1LastShotResult'\n",
    "] = point_df['lastShotResult']\n"
   ]
  },
  {
   "cell_type": "markdown",
   "id": "eabb333f",
   "metadata": {},
   "source": [
    "#### player2ServeResult Column"
   ]
  },
  {
   "cell_type": "code",
   "execution_count": null,
   "id": "30f640bb-b8f8-4f3a-867a-bc157dfc2b25",
   "metadata": {},
   "outputs": [],
   "source": [
    "# Add the 'player2ServeResult' column\n",
    "point_df['player2ServeResult'] = None\n",
    "\n",
    "# Set player1ServeResult based on conditions\n",
    "point_df.loc[point_df['serverName'] == point_df['player2Name'], 'player2ServeResult'] = point_df['serveResult']\n",
    "point_df.loc[point_df['isAce'] == True, 'player1ServeResult'] = 'Ace'"
   ]
  },
  {
   "cell_type": "markdown",
   "id": "3f127274-937c-44dc-b661-0cf1394f7a55",
   "metadata": {},
   "source": [
    "#### player2ServePlacement Column"
   ]
  },
  {
   "cell_type": "code",
   "execution_count": null,
   "id": "5555bf1b-130a-4504-a291-c55e14c7082e",
   "metadata": {},
   "outputs": [],
   "source": [
    "# Add the 'player1ServePlacement' column\n",
    "point_df['player2ServePlacement'] = None\n",
    "\n",
    "# Set player1ServePlacement based on conditions\n",
    "point_df.loc[point_df['serverName'] == point_df['player2Name'], 'player2ServePlacement'] = point_df['side'] + ': ' + point_df['serveInPlacement']"
   ]
  },
  {
   "cell_type": "markdown",
   "id": "ab680e05-13fa-445d-b17c-d4e917e4b0a0",
   "metadata": {},
   "source": [
    "#### player2ReturnPlacement Column"
   ]
  },
  {
   "cell_type": "code",
   "execution_count": null,
   "id": "6cff1321-4e19-4f3b-a124-9447543f9836",
   "metadata": {},
   "outputs": [],
   "source": [
    "# Add the 'player2ReturnPlacement' column\n",
    "point_df['player2ReturnPlacement'] = None\n",
    "\n",
    "# Set player1ServePlacement based on conditions\n",
    "point_df.loc[point_df['returnerName'] == point_df['player2Name'], 'player2ReturnPlacement'] = point_df['returnDirection']"
   ]
  },
  {
   "cell_type": "markdown",
   "id": "9922c54f-d431-4d06-8e4f-5b5ae7db3ec4",
   "metadata": {},
   "source": [
    "#### player2ReturnFhBh Column"
   ]
  },
  {
   "cell_type": "code",
   "execution_count": null,
   "id": "ab4569cf-557f-45e0-8d63-700c57ccb7d7",
   "metadata": {},
   "outputs": [],
   "source": [
    "# Add the 'player1ReturnFhBh' column\n",
    "point_df['player2ReturnFhBh'] = None\n",
    "\n",
    "# Set player1ServePlacement based on conditions\n",
    "point_df.loc[point_df['returnerName'] == point_df['player2Name'], 'player2ReturnFhBh'] = point_df['returnFhBh']"
   ]
  },
  {
   "cell_type": "markdown",
   "id": "ae86d237-6e1c-430e-9b4c-5b5a9b115a21",
   "metadata": {},
   "source": [
    "#### player2LastShotPlacement Column"
   ]
  },
  {
   "cell_type": "code",
   "execution_count": null,
   "id": "9dc20090-333e-4779-93f3-734e4643bd3c",
   "metadata": {},
   "outputs": [],
   "source": [
    "# Add the 'player1LastShotFhBh' column\n",
    "point_df['player2LastShotPlacement'] = None\n",
    "\n",
    "# Set player1ServePlacement based on conditions\n",
    "point_df.loc[point_df['lastShotHitBy'] == point_df['player2Name'], 'player2LastShotPlacement'] = point_df['lastShotDirection']"
   ]
  },
  {
   "cell_type": "markdown",
   "id": "1f64ec58-4876-47f3-8312-6618e70a885b",
   "metadata": {},
   "source": [
    "#### player2LastShotFhBh Column"
   ]
  },
  {
   "cell_type": "code",
   "execution_count": null,
   "id": "1e23e946-630d-4abb-8784-ba54ee2c361e",
   "metadata": {},
   "outputs": [],
   "source": [
    "# Add the 'player1LastShotFhBh' column\n",
    "point_df['player2LastShotFhBh'] = None\n",
    "\n",
    "# Set player1ServePlacement based on conditions\n",
    "point_df.loc[point_df['lastShotHitBy'] == point_df['player2Name'], 'player2LastShotFhBh'] = point_df['lastShotFhBh']"
   ]
  },
  {
   "cell_type": "markdown",
   "id": "980ec9fa-6b5c-48b5-bc75-7faee7fc6d16",
   "metadata": {},
   "source": [
    "#### player2LastShotResult Column"
   ]
  },
  {
   "cell_type": "code",
   "execution_count": null,
   "id": "f2c4e04c-911c-4afc-b485-0f4236f0aa2b",
   "metadata": {},
   "outputs": [],
   "source": [
    "# Add the 'player2LastShotResult' column\n",
    "point_df['player2LastShotResult'] = None\n",
    "\n",
    "# Set player1LastShotResult based on conditions, excluding 'Ace' and 'Double Fault'\n",
    "point_df.loc[\n",
    "    (point_df['lastShotHitBy'] == point_df['player2Name']) &\n",
    "    ~point_df['player2ServeResult'].isin(['Ace', 'Double Fault']),\n",
    "    'player2LastShotResult'\n",
    "] = point_df['lastShotResult']\n"
   ]
  },
  {
   "cell_type": "markdown",
   "id": "fcb3dc11-4abc-4f1b-b07a-50e2b8295043",
   "metadata": {},
   "source": [
    "#### Name Column"
   ]
  },
  {
   "cell_type": "code",
   "execution_count": null,
   "id": "9487a6d5-18eb-4a3b-ab7c-995482a3ce49",
   "metadata": {},
   "outputs": [],
   "source": [
    "# Change pointScore to the specified format\n",
    "point_df['Name'] = point_df.apply(lambda row: f\"Set {row['setNum']}: {row['gameScore']}, {row['tiebreakScore']} {row['serverName']} Serving\" if pd.notna(row['tiebreakScore']) else f\"Set {row['setNum']}: {row['gameScore']}, {row['pointScore']} {row['serverName']} Serving\", axis=1)"
   ]
  },
  {
   "cell_type": "markdown",
   "id": "d4ebed59-72a7-4dc9-a63f-95b528ab5bbb",
   "metadata": {},
   "source": [
    "## Reorder DataFrame for Output"
   ]
  },
  {
   "cell_type": "code",
   "execution_count": null,
   "id": "ba386657-82b9-4b27-9354-770b50fc7623",
   "metadata": {},
   "outputs": [],
   "source": [
    "desired_order = ['pointNumber', 'player1Name', 'player2Name', 'pointScore', 'gameScore',\n",
    "       'setScore', 'tiebreakScore', 'side', 'serverName', 'returnerName',\n",
    "       'clientTeam', 'opponentTeam', 'Position', 'pointEndPosition',\n",
    "       'Duration', 'rallyCount', 'rallyCountFreq', 'firstServeIn',\n",
    "       'secondServeIn', 'serveResult', 'serveInPlacement', 'firstServeZone',\n",
    "       'secondServeZone', 'isAce', 'serverFarNear', 'firstServeXCoord',\n",
    "       'firstServeYCoord', 'secondServeXCoord', 'secondServeYCoord',\n",
    "       'returnDirection', 'returnFhBh', 'errorType', 'returnError',\n",
    "       'lastShotDirection', 'lastShotFhBh', 'lastShotHitBy', 'lastShotResult',\n",
    "       'pointWonBy', 'isExcitingPoint', 'isBreakPoint', 'atNetPlayer1',\n",
    "       'atNetPlayer2', 'setNum', 'player1SetScore', 'player2SetScore',\n",
    "       'player1GameScore', 'player2GameScore', 'player1PointScore',\n",
    "       'player2PointScore', 'player1TiebreakScore', 'player2TiebreakScore',\n",
    "       'gameNumber', 'player1ServeResult', 'player1ServePlacement',\n",
    "       'player1ReturnPlacement', 'player1ReturnFhBh',\n",
    "       'player1LastShotPlacement', 'player1LastShotFhBh',\n",
    "       'player1LastShotResult', 'player2ServeResult', 'player2ServePlacement',\n",
    "       'player2ReturnPlacement', 'player2ReturnFhBh',\n",
    "       'player2LastShotPlacement', 'player2LastShotFhBh',\n",
    "       'player2LastShotResult', 'deepCountPlayer1', 'deepCountPlayer2',\n",
    "       'shortCountPlayer1', 'shortCountPlayer2', 'Name']\n",
    "\n",
    "# Reorder the columns\n",
    "point_df = point_df.reindex(columns=desired_order)"
   ]
  },
  {
   "cell_type": "markdown",
   "id": "2b3f3268-eac6-4b0d-83d8-0b943d927015",
   "metadata": {},
   "source": [
    "## Error Check 20: \n",
    "#### Check if the columns and their order are the same"
   ]
  },
  {
   "cell_type": "code",
   "execution_count": null,
   "id": "793fe8a9",
   "metadata": {},
   "outputs": [],
   "source": [
    "point_df_copy = point_df.copy()"
   ]
  },
  {
   "cell_type": "code",
   "execution_count": null,
   "id": "fdead9e8-666d-4d5a-82b6-f3691aae7185",
   "metadata": {},
   "outputs": [],
   "source": [
    "print(point_df.shape)\n",
    "print(point_df_copy.shape)\n",
    "\n",
    "if (point_df.shape == point_df_copy.shape):\n",
    "    print('Check passed.')\n",
    "else:\n",
    "    raise ValueError('Error: Not the same!')"
   ]
  },
  {
   "cell_type": "code",
   "execution_count": null,
   "id": "48cf85be-dfd1-4cd0-a548-be645e166da8",
   "metadata": {},
   "outputs": [],
   "source": [
    "# Get the set of column names for each DataFrame\n",
    "point_df_columns = set(point_df.columns)\n",
    "point_df_copy_columns = set(point_df_copy.columns)\n",
    "\n",
    "# Find the column names unique to each DataFrame\n",
    "unique_to_point_df = point_df_columns - point_df_copy_columns\n",
    "unique_to_point_df_copy = point_df_copy_columns - point_df_columns\n",
    "\n",
    "# Output the results\n",
    "if unique_to_point_df:\n",
    "    print(\"Columns unique to point_df:\", unique_to_point_df)\n",
    "else:\n",
    "    print(\"All columns in point_df are also in point_df_copy\")\n",
    "\n",
    "if unique_to_point_df_copy:\n",
    "    print(\"Columns unique to point_df_copy:\", unique_to_point_df_copy)\n",
    "else:\n",
    "    print(\"All columns in point_df_copy are also in point_df\")\n"
   ]
  },
  {
   "cell_type": "markdown",
   "id": "0b51b1c2-8a26-4b5a-8a86-c08c7738172b",
   "metadata": {},
   "source": [
    "#### Change all empty cells to \"\""
   ]
  },
  {
   "cell_type": "code",
   "execution_count": null,
   "id": "c6f8badd-f2e3-469e-a885-2ce2f56a9c49",
   "metadata": {},
   "outputs": [],
   "source": [
    "point_df.replace([pd.NA, None, pd.NaT, float('nan')], \"\", inplace=True)"
   ]
  },
  {
   "cell_type": "markdown",
   "id": "29c55fac-8013-4892-b868-89894561453c",
   "metadata": {},
   "source": [
    "# Output PointCSV"
   ]
  },
  {
   "cell_type": "code",
   "execution_count": null,
   "id": "6068f39f-7f61-4a09-8b29-07adc9b52e83",
   "metadata": {},
   "outputs": [],
   "source": [
    "player1NameNoSpace = point_df.iloc[0]['player1Name'].replace(\" \", \"\")\n",
    "player2NameNoSpace = point_df.iloc[0]['player2Name'].replace(\" \", \"\")\n",
    "\n",
    "# Save DataFrame to CSV file with modified player names\n",
    "point_df.to_csv(f'Point_Visuals_{player1NameNoSpace}_{player2NameNoSpace}.csv', index=False)\n",
    "\n",
    "# Function to change csv to json\n",
    "def csv_to_json(csv_file_path, json_file_name):\n",
    "    df = pd.read_csv(csv_file_path)\n",
    "    json_data = df.to_json(orient='records')\n",
    "    json_file_path = f'{json_file_name}'\n",
    "    with open(json_file_path, 'w') as json_file:\n",
    "        json_file.write(json_data)\n",
    "    \n",
    "    return json_file_path\n",
    "\n",
    "# Convert CSV to JSON and save in the same directory\n",
    "csv_file_path = f\"Point_Visuals_{player1NameNoSpace}_{player2NameNoSpace}.csv\"\n",
    "json_file_name = f\"Point_Visuals_{player1NameNoSpace}_{player2NameNoSpace}.json\"\n",
    "csv_to_json(csv_file_path, json_file_name)\n"
   ]
  },
  {
   "cell_type": "markdown",
   "id": "c00e49c8-0479-47e8-bf83-28c6d57da209",
   "metadata": {},
   "source": [
    "# EDA"
   ]
  },
  {
   "cell_type": "markdown",
   "id": "735f9aa0-d40c-4c43-94a8-d97bbf920d60",
   "metadata": {},
   "source": [
    "### Shot CSV EDA"
   ]
  },
  {
   "cell_type": "code",
   "execution_count": null,
   "id": "ad1279ce",
   "metadata": {},
   "outputs": [],
   "source": [
    "first_player1Name = point_df['player1Name'].iloc[0]\n",
    "first_player2Name = point_df['player2Name'].iloc[0]"
   ]
  },
  {
   "cell_type": "code",
   "execution_count": null,
   "id": "fc732ce1-8de6-4248-a8b2-228f4934eebd",
   "metadata": {},
   "outputs": [],
   "source": [
    "shot_eda = shot_data.copy()\n",
    "point_df_eda = point_df.copy()\n",
    "\n",
    "# Can input CSV Directly here for statistics functions\n",
    "## [Depth EDA]\n",
    "# Filter shots for Player1:\n",
    "print(f\"\\n\\nShot Results for {first_player1Name} for match overall:\")\n",
    "\n",
    "player1_shots = shot_eda[(shot_eda['shotHitBy'] == player1Name) & (shot_eda['lastShotError'] != 1) & (shot_eda['shotInRally'] != 1)]\n",
    "#player1_shots = player1_shots[player1_shots['shotInRally'] != 1]\n",
    "#print(player1_shots.head(10))\n",
    "num_player1_shots = len(player1_shots)\n",
    "num_deep_player1_shots = player1_shots['deep'].sum()\n",
    "num_short_player1_shots = player1_shots['short'].sum()\n",
    "\n",
    "print(f\"Number of Deep Shots (count): {num_deep_player1_shots}\" )\n",
    "print(f\"Number of Short Shots (count): {num_short_player1_shots}\" )\n",
    "\n",
    "# average of ALL shots in match for Player1 (including errors/long shots but excluding serves)\n",
    "print(f\"Number of Deep Shots (%): {num_deep_player1_shots / num_player1_shots:.2f}%\")\n",
    "print(f\"Number of Short Shots (%): {num_short_player1_shots / num_player1_shots:.2f}%\")\n",
    "\n",
    "\n",
    "# separate into forehand, backhand, slice, and volley (all sepearate from each other):\n",
    "# [remove slice and volleys from fh and bh count] ??\n",
    "\n",
    "fh_shots = player1_shots[(player1_shots['shotFhBh'] == 'Forehand')] #& (player1_shots['isSlice'] != 1) & (player1_shots['isVolley'] != 1)]\n",
    "bh_shots = player1_shots[(player1_shots['shotFhBh'] == 'Backhand')] #& (player1_shots['isSlice'] != 1) & (player1_shots['isVolley'] != 1)]\n",
    "slice_shots = player1_shots[player1_shots['isSlice'] == 1]\n",
    "volley_shots = player1_shots[player1_shots['isVolley'] == 1]\n",
    "\n",
    "fh_slice = player1_shots[(player1_shots['shotFhBh'] == 'Forehand') & (player1_shots['isSlice'] == 1)]\n",
    "bh_slice = player1_shots[(player1_shots['shotFhBh'] == 'Backhand') & (player1_shots['isSlice'] == 1)]\n",
    "fh_volley = player1_shots[(player1_shots['shotFhBh'] == 'Forehand') & (player1_shots['isVolley'] == 1)]\n",
    "bh_volley = player1_shots[(player1_shots['shotFhBh'] == 'Backhand') & (player1_shots['isVolley'] == 1)]\n",
    "\n",
    "    \n",
    "print(f\"\\nTotal number of Forehands (count): {len(fh_shots)}\" )\n",
    "print(f\"Forehands Deep (count): {fh_shots['deep'].sum()}\" )\n",
    "print(f\"Forehands Short (count): {fh_shots['short'].sum()}\" )\n",
    "print(f\"Forehands Deep (%): {( fh_shots['deep'].sum() / len(fh_shots) ):.2f}%\")\n",
    "print(f\"Forehands Short (%): {( fh_shots['short'].sum() / len(fh_shots) ):.2f}%\")\n",
    "\n",
    "\n",
    "print(f\"\\nTotal number of Backhands (count): {len(bh_shots)}\" )\n",
    "print(f\"Backhands Deep (count): {bh_shots['deep'].sum()}\" )\n",
    "print(f\"Backhands Short (count): {bh_shots['short'].sum()}\" )\n",
    "print(f\"Backhands Deep (%): {( bh_shots['deep'].sum() / len(bh_shots) ):.2f}%\")\n",
    "print(f\"Backhands Short (%): {( bh_shots['short'].sum() / len(bh_shots) ):.2f}%\")\n",
    "\n",
    "\n",
    "print(f\"\\nTotal number of Slices (count): {len(slice_shots)}\" )\n",
    "print(f\"Slices Deep (count): {slice_shots['deep'].sum()}\" )\n",
    "print(f\"Slices Short (count): {slice_shots['short'].sum()}\" )\n",
    "print(f\"Slices Deep (%): {( slice_shots['deep'].sum() / len(slice_shots) ):.2f}%\")\n",
    "print(f\"Slices Short (%): {( slice_shots['short'].sum() / len(slice_shots) ):.2f}%\")\n",
    "\n",
    "print(f\"Slices Deep Forehand(%): {(fh_slice[('deep')].sum() / len(slice_shots) ):.2f}%\")\n",
    "print(f\"Slices Short Forehand (%): {(fh_slice[('short')].sum()/ len(slice_shots) ):.2f}%\")\n",
    "print(f\"Slices Deep Backhand (%): {(bh_slice[('deep')].sum()/ len(slice_shots) ):.2f}\")\n",
    "print(f\"Slices Short Backhand (%): {(bh_slice[('short')].sum()/ len(slice_shots) ):.2f}\")\n",
    "\n",
    "\n",
    "print(f\"\\nTotal number of Volleys (count): {len(volley_shots)}\" )\n",
    "print(f\"Volleys Deep (count): {volley_shots['deep'].sum()}\" )\n",
    "print(f\"Volleys Short (count): {volley_shots['short'].sum()}\" )\n",
    "print(f\"Volleys Deep (%): {( volley_shots['deep'].sum() / len(volley_shots) ):.2f}%\")\n",
    "print(f\"Volleys Short (%): {( volley_shots['short'].sum() / len(volley_shots) ):.2f}%\")\n",
    "\n",
    "print(f\"Volleys Deep Forehand (%): {(fh_volley[('deep')].sum()/ len(volley_shots) ):.2f}\")\n",
    "print(f\"Volleys Short Forehand (%): {(fh_volley[('short')].sum()/ len(volley_shots) ):.2f}\")\n",
    "print(f\"Volleys Deep Backhand (%): {(bh_volley[('deep')].sum()/ len(volley_shots) ):.2f}\")\n",
    "print(f\"Volleys Short Backhand (%): {(bh_volley[('short')].sum()/ len(volley_shots) ):.2f}\")\n",
    "# Filter shots for Player1:\n",
    "print(f\"\\n\\nShot Results for {first_player1Name} per point:\")\n",
    "\n",
    "print(f\"Average Deep Shots (%): {(point_df_eda['deepCountPlayer1'].sum() / len(point_df_eda)):.2f}%\")\n",
    "print(f\"Average Short Shots (%): {(point_df_eda['shortCountPlayer1'].sum() / len(point_df_eda)):.2f}%\")\n",
    "\n",
    "\n",
    "#print(point_df_eda.columns)\n",
    "#point_df_eda\n",
    "#player1_shots = shot_eda[shot_eda['shotHitBy'] == player1Name]\n",
    "\n",
    "# fix above code: make avg in each point, then avg the avg?\n",
    "# your_file_name = \"filename.csv\"\n",
    "# shot_eda = pd.read_csv(your_file_name)"
   ]
  },
  {
   "cell_type": "code",
   "execution_count": null,
   "id": "4f834479-9c3d-4279-a799-99a8f595a08f",
   "metadata": {},
   "outputs": [],
   "source": [
    "player1Name = shot_eda.iloc[0]['player1Name']\n",
    "\n",
    "# Filter shot_data based on the conditions\n",
    "approach_data_player1 = shot_eda[(shot_eda['isApproach'] == 1) & (shot_eda['shotHitBy'] == player1Name)]\n",
    "\n",
    "# Count the distinct pointNumbers\n",
    "distinct_point_numbers = approach_data_player1['pointNumber'].nunique()\n",
    "\n",
    "# Print the result\n",
    "print(f\"Number of Approach Shots hit by {player1Name}: {distinct_point_numbers}\" )\n",
    "\n",
    "# print(approach_data_player1)\n"
   ]
  },
  {
   "cell_type": "markdown",
   "id": "479c35f4-3096-40c9-9560-3d5abeb81626",
   "metadata": {},
   "source": [
    "### Point CSV EDA"
   ]
  },
  {
   "cell_type": "markdown",
   "id": "4f0feb90-99df-4639-bd31-95772fbdc57b",
   "metadata": {},
   "source": [
    "#### Serve"
   ]
  },
  {
   "cell_type": "code",
   "execution_count": null,
   "id": "4dd6da9b",
   "metadata": {},
   "outputs": [],
   "source": []
  },
  {
   "cell_type": "markdown",
   "id": "65dd743d",
   "metadata": {},
   "source": [
    "#### Return"
   ]
  },
  {
   "cell_type": "code",
   "execution_count": null,
   "id": "7cfc7542-6668-4c85-9522-cc52c121fa37",
   "metadata": {
    "scrolled": true
   },
   "outputs": [],
   "source": [
    "first_player1Name = point_df_eda['player1Name'].iloc[0]\n",
    "\n",
    "\n",
    "\n",
    "# Display the results\n",
    "print(f\"\\nServe Results for {first_player1Name}:\")\n",
    "\n",
    "# Assuming point_df_eda is your DataFrame\n",
    "total_serves = len(point_df_eda[point_df_eda['serverName'] == first_player1Name])\n",
    "first_serve_in_count = len(point_df_eda[(point_df_eda['serverName'] == first_player1Name) & (point_df_eda['firstServeIn'] == 1)])\n",
    "first_serve_won_count = len(point_df_eda[(point_df_eda['serverName'] == first_player1Name) & (point_df_eda['firstServeIn'] == 1) & (point_df_eda['pointWonBy'] == first_player1Name)])\n",
    "percentage_first_serve_in = (first_serve_in_count / total_serves) * 100 if total_serves > 0 else 0\n",
    "percentage_first_serve_won = (first_serve_won_count / first_serve_in_count) * 100 if first_serve_in_count > 0 else 0\n",
    "\n",
    "second_serve_total_count = len(point_df_eda[(point_df_eda['serverName'] == first_player1Name) & (point_df_eda['firstServeIn'] == 0)])\n",
    "second_serve_in_count = len(point_df_eda[(point_df_eda['serverName'] == first_player1Name) & (point_df_eda['firstServeIn'] == 0)& (point_df_eda['secondServeIn'] == 1)])\n",
    "second_serve_won_count = len(point_df_eda[(point_df_eda['serverName'] == first_player1Name) & (point_df_eda['firstServeIn'] == 0)& (point_df_eda['secondServeIn'] == 1) & (point_df_eda['pointWonBy'] == first_player1Name)])\n",
    "percentage_second_serve_in = (second_serve_in_count / second_serve_total_count) * 100 if second_serve_total_count > 0 else 0\n",
    "percentage_second_serve_won = (second_serve_won_count / second_serve_in_count) * 100 if second_serve_in_count > 0 else 0\n",
    "\n",
    "\n",
    "\n",
    "# Display the results\n",
    "print(\"\\nTotal Serves:\", total_serves)\n",
    "print(\"First Serve In (Count):\", first_serve_in_count)\n",
    "print(\"First Serve Won (Count):\", first_serve_won_count)\n",
    "print(f\"First Serve In (%): {percentage_first_serve_in:.2f}%\")\n",
    "print(f\"First Serve Won (%): {percentage_first_serve_won:.2f}%\")\n",
    "\n",
    "print(\"Second Serve In (Count):\", second_serve_in_count)\n",
    "print(\"Second Serve Total (Count):\", second_serve_total_count)\n",
    "print(\"Second Serve Won (Count):\", second_serve_won_count)\n",
    "print(f\"Second Serve In (%): {percentage_second_serve_in:.2f}%\")\n",
    "print(f\"Second Serve Won (%): {percentage_second_serve_won:.2f}%\")\n",
    "\n",
    "# Assuming point_df is your DataFrame\n",
    "count_is_ace = (point_df_eda[point_df_eda['serverName'] == first_player1Name]['isAce']).sum()\n",
    "count_is_double_fault = ((point_df_eda['serverName'] == first_player1Name) & (point_df_eda['serveResult'] == \"Double Fault\")).sum()\n",
    "\n",
    "# Display the results\n",
    "print(\"Ace (Count):\", count_is_ace)\n",
    "print(\"Double Fault (Count):\", count_is_double_fault)\n",
    "\n",
    "# Count of rows where serverName is equal to the first row of player1Name and pointWonBy is equal to the first row of player1Name\n",
    "total_service_points_won = len(point_df_eda[(point_df_eda['serverName'] == first_player1Name) & (point_df_eda['pointWonBy'] == first_player1Name)])\n",
    "total_service_points_won_percentage = total_service_points_won / total_serves *100\n",
    "\n",
    "# Display the results\n",
    "print(f\"Points Won on Serve (Count) {total_service_points_won}\")\n",
    "\n",
    "print(f\"Points Won on Serve (%): {total_service_points_won_percentage:.2f}%\")\n",
    "\n",
    "# Assuming point_df is your DataFrame\n",
    "return_points = point_df_eda[(point_df_eda['returnerName'] == first_player1Name)] # CHANGED THIS JERRY, REMOVED RALLY COUNT >= 2\n",
    "\n",
    "total_return = len(return_points)\n",
    "returnMade = len(return_points[(return_points['rallyCount'] > 2) | ((return_points['rallyCount'] == 2) & (return_points['lastShotResult'] != 'Error'))])\n",
    "returnError = len(return_points[(return_points['lastShotResult'] == 'Error') & (return_points['rallyCount'] == 2)])\n",
    "returnWinner = len(return_points[(return_points['lastShotResult'] == 'Winner') & (return_points['rallyCount'] == 2)])\n",
    "returnMadePercentage = returnMade/total_return\n",
    "\n",
    "returnWonByPlayer1 = len(return_points[return_points['pointWonBy'] == first_player1Name])\n",
    "returnWonByPlayer1Percentage = returnWonByPlayer1 / returnMade * 100 if returnMade > 0 else 0\n",
    "\n",
    "deuceReturnCount = len(return_points[return_points['side'] == 'Deuce'])\n",
    "adReturnCount = len(return_points[return_points['side'] == 'Ad'])\n",
    "\n",
    "\n",
    "deuceReturnMade = len(return_points[(return_points['side'] == 'Deuce') & ((return_points['rallyCount'] > 2) | ((return_points['rallyCount'] == 2) & (return_points['lastShotResult'] != 'Error')))])\n",
    "adReturnMade = len(return_points[(return_points['side'] == 'Ad') & ((return_points['rallyCount'] > 2) | ((return_points['rallyCount'] == 2) & (return_points['lastShotResult'] != 'Error')))])\n",
    "\n",
    "deuceReturnMadePercentage = deuceReturnMade/deuceReturnCount\n",
    "adReturnMadePercentage = adReturnMade/adReturnCount\n",
    "\n",
    "deuceReturnWonByPlayer1 = len(return_points[(return_points['side'] == 'Deuce') & (return_points['pointWonBy'] == first_player1Name) | ((return_points['rallyCount'] == 2) & (return_points['lastShotResult'] != 'Error'))])\n",
    "adReturnWonByPlayer1 = len(return_points[(return_points['side'] == 'Ad') & (return_points['pointWonBy'] == first_player1Name) | ((return_points['rallyCount'] == 2) & (return_points['lastShotResult'] != 'Error'))])\n",
    "\n",
    "deuceReturnWonByPlayer1Percentage = deuceReturnWonByPlayer1 / deuceReturnMade * 100 if deuceReturnMade > 0 else 0\n",
    "adReturnWonByPlayer1Percentage = adReturnWonByPlayer1 / adReturnMade * 100 if adReturnMade > 0 else 0\n",
    "\n",
    "\n",
    "\n",
    "\n",
    "print(f\"\\nReturn Results for {first_player1Name}:\\n\")\n",
    "\n",
    "print(\"Total Return (Count):\", total_return)\n",
    "print(\"Return Won (Count):\", returnWonByPlayer1)\n",
    "print(\"Return Won (%):\", returnWonByPlayer1Percentage)\n",
    "\n",
    "print(\"\\nReturn Made (Count):\", returnMade)\n",
    "print(\"Return Made (%):\", returnMadePercentage)\n",
    "print(\"Return Error (Count):\", returnError)\n",
    "print(\"Return Winner (Count):\", returnWinner)\n",
    "\n",
    "print(\"\\nDeuce Return (Count):\", deuceReturnCount)\n",
    "print(\"Deuce Return Made (Count):\", deuceReturnMade)\n",
    "print(\"Deuce Return Made (%):\", deuceReturnMadePercentage)\n",
    "print(\"Deuce Return Won by Player1 (%):\", deuceReturnWonByPlayer1Percentage)\n",
    "print(\"Deuce Return Won by Player1 (Count):\", deuceReturnWonByPlayer1)\n",
    "\n",
    "\n",
    "print(\"\\nAd Return (Count):\", adReturnCount)\n",
    "print(\"Ad Return Made (Count):\", adReturnMade)\n",
    "print(\"Ad Return Made (%):\", adReturnMadePercentage)\n",
    "print(\"Ad Return Won by Player1 (Count):\", adReturnWonByPlayer1)\n",
    "print(\"Ad Return Won by Player1 (%):\", adReturnWonByPlayer1Percentage)\n",
    "\n",
    "# Assuming return_points is your DataFrame\n",
    "deuce_return_points = return_points[(return_points['side'] == 'Deuce') & (return_points['returnerName'] == first_player1Name) & (return_points['rallyCount'] >= 2)]\n",
    "\n",
    "# Deuce Return Points Separated by returnFhBh\n",
    "deuce_forehand_return_points = deuce_return_points[deuce_return_points['returnFhBh'] == 'Forehand']\n",
    "deuce_backhand_return_points = deuce_return_points[deuce_return_points['returnFhBh'] == 'Backhand']\n",
    "\n",
    "\n",
    "# Count for Deuce Return Points - Made\n",
    "count_deuce_forehand_made = len(deuce_forehand_return_points[(deuce_forehand_return_points['rallyCount'] > 2) | ((deuce_forehand_return_points['rallyCount'] == 2) & (deuce_forehand_return_points['lastShotResult'] != 'Error'))])\n",
    "count_deuce_backhand_made = len(deuce_backhand_return_points[(deuce_backhand_return_points['rallyCount'] > 2) | ((deuce_backhand_return_points['rallyCount'] == 2) & (deuce_backhand_return_points['lastShotResult'] != 'Error'))])\n",
    "\n",
    "# Count for Deuce Return Points - Error\n",
    "count_deuce_forehand_error = len(deuce_forehand_return_points[(deuce_forehand_return_points['lastShotResult'] == 'Error') & (deuce_forehand_return_points['rallyCount'] == 2)])\n",
    "count_deuce_backhand_error = len(deuce_backhand_return_points[(deuce_backhand_return_points['lastShotResult'] == 'Error') & (deuce_backhand_return_points['rallyCount'] == 2)])\n",
    "\n",
    "# Display the counts\n",
    "print(\"\\nDeuce Forehand Return Points - Made:\", count_deuce_forehand_made)\n",
    "print(\"Deuce Forehand Return Points - Error:\", count_deuce_forehand_error)\n",
    "\n",
    "print(\"Deuce Backhand Return Points - Made:\", count_deuce_backhand_made)\n",
    "print(\"Deuce Backhand Return Points - Error:\", count_deuce_backhand_error)\n",
    "\n",
    "# Assuming return_points is your DataFrame\n",
    "ad_return_points = return_points[(return_points['side'] == 'Ad') & (return_points['returnerName'] == first_player1Name) & (return_points['rallyCount'] >= 2)]\n",
    "\n",
    "# Ad Return Points Separated by returnFhBh\n",
    "ad_forehand_return_points = ad_return_points[ad_return_points['returnFhBh'] == 'Forehand']\n",
    "ad_backhand_return_points = ad_return_points[ad_return_points['returnFhBh'] == 'Backhand']\n",
    "\n",
    "# Count for Ad Return Points - Made\n",
    "count_ad_forehand_made = len(ad_forehand_return_points[(ad_forehand_return_points['rallyCount'] > 2) | ((ad_forehand_return_points['rallyCount'] == 2) & (ad_forehand_return_points['lastShotResult'] != 'Error'))])\n",
    "count_ad_backhand_made = len(ad_backhand_return_points[(ad_backhand_return_points['rallyCount'] > 2) | ((ad_backhand_return_points['rallyCount'] == 2) & (ad_backhand_return_points['lastShotResult'] != 'Error'))])\n",
    "\n",
    "# Count for Ad Return Points - Error\n",
    "count_ad_forehand_error = len(ad_forehand_return_points[(ad_forehand_return_points['lastShotResult'] == 'Error') & (ad_forehand_return_points['rallyCount'] == 2)])\n",
    "count_ad_backhand_error = len(ad_backhand_return_points[(ad_backhand_return_points['lastShotResult'] == 'Error') & (ad_backhand_return_points['rallyCount'] == 2)])\n",
    "\n",
    "# Display the counts\n",
    "print(\"\\nAd Forehand Return Points - Made:\", count_ad_forehand_made)\n",
    "print(\"Ad Forehand Return Points - Error:\", count_ad_forehand_error)\n",
    "\n",
    "print(\"Ad Backhand Return Points - Made:\", count_ad_backhand_made)\n",
    "print(\"Ad Backhand Return Points - Error:\", count_ad_backhand_error)\n",
    "\n",
    "print(f\"\\nAt Net Results for {first_player1Name}:\\n\")\n",
    "\n",
    "\n",
    "# Total points where atNetPlayer1 = first_player1Name\n",
    "total_at_net_player1 = len(point_df_eda[point_df_eda['atNetPlayer1'] == first_player1Name])\n",
    "\n",
    "# Percentage of points where atNetPlayer1 = 1 out of total points\n",
    "percentage_at_net_player1 = (total_at_net_player1 / len(point_df_eda)) * 100 if len(point_df_eda) > 0 else 0\n",
    "\n",
    "# Display the total count and percentage of points where atNetPlayer1 = 1\n",
    "print(f\"Total Net Points for {first_player1Name}: {total_at_net_player1}\")\n",
    "print(f\"Percentage of Net Points for {first_player1Name}: {percentage_at_net_player1:.2f}%\")\n",
    "\n",
    "# Points where atNetPlayer1 = first_player1Name and pointWonBy = first_player1Name\n",
    "at_net_player1_and_won_by_player1 = len(point_df_eda[(point_df_eda['atNetPlayer1'] == first_player1Name) & (point_df_eda['pointWonBy'] == first_player1Name)])\n",
    "\n",
    "# Percentage of points where atNetPlayer1 = first_player1Name and pointWonBy = first_player1Name out of total points where atNetPlayer1 = 1\n",
    "percentage_at_net_player1_and_won_by_player1 = (at_net_player1_and_won_by_player1 / total_at_net_player1) * 100 if total_at_net_player1 > 0 else 0\n",
    "\n",
    "# Display the count and percentage of points where atNetPlayer1 = 1 and pointWonBy = first_player1Name\n",
    "print(f\"\\nTotal Net Points won by {first_player1Name}: {at_net_player1_and_won_by_player1}\")\n",
    "print(f\"Percentage of Net Points won by {first_player1Name}: {percentage_at_net_player1_and_won_by_player1:.2f}%\")\n"
   ]
  },
  {
   "cell_type": "code",
   "execution_count": null,
   "id": "add4f3ee",
   "metadata": {},
   "outputs": [],
   "source": [
    "# Caitlin Breakpoint Data\n",
    "\n",
    "# points_returned = point_df_eda[point_df_eda[]]\n",
    "\n",
    "# print(f\"\\nBreakpoint Results for {first_player1Name}:\\n\")\n",
    "\n",
    "# # Total points where isBreakPoint = 1\n",
    "# total_breakpoint = len(point_df_eda[point_df_eda['isBreakPoint'] == 1])\n",
    "\n",
    "# # Points where isBreakPoint = 1 and pointWonBy = first_player1Name\n",
    "# breakpoint_and_won_by_player1 = len(point_df_eda[(point_df_eda['isBreakPoint'] == 1) & (point_df_eda['pointWonBy'] == first_player1Name)])\n",
    "\n",
    "# # Percentage of points where isBreakPoint = 1 and pointWonBy = first_player1Name out of total points where isBreakPoint = 1\n",
    "# percentage_breakpoint_and_won_by_player1 = (breakpoint_and_won_by_player1 / total_breakpoint) * 100 if total_breakpoint > 0 else 0\n",
    "\n",
    "# # Display the total count of points where isBreakPoint = 1\n",
    "# print(f\"Total Breakpoints: {total_breakpoint}\")\n",
    "\n",
    "# # Display the count and percentage of points where isBreakPoint = 1 and pointWonBy = first_player1Name\n",
    "# print(f\"Total Breakpoints won by {first_player1Name}: {breakpoint_and_won_by_player1}\")\n",
    "# print(f\"Percentage of Breakpoints won by {first_player1Name}: {percentage_breakpoint_and_won_by_player1:.2f}%\")\n",
    "\n",
    "# # Total points where isBreakPoint = 1 and serverName = first_player1Name\n",
    "# total_breakpoint_serve = len(point_df_eda[(point_df_eda['isBreakPoint'] == 1) & (point_df_eda['serverName'] == first_player1Name)])\n",
    "\n",
    "# # Points where isBreakPoint = 1, serverName = first_player1Name, and pointWonBy = first_player1Name\n",
    "# breakpoint_and_won_by_player1_serve = len(point_df_eda[(point_df_eda['isBreakPoint'] == 1) & (point_df_eda['serverName'] == first_player1Name) & (point_df_eda['pointWonBy'] == first_player1Name)])\n",
    "\n",
    "# # Percentage of points where isBreakPoint = 1, serverName = first_player1Name, and pointWonBy = first_player1Name out of total points where isBreakPoint = 1 and serverName = first_player1Name\n",
    "# percentage_breakpoint_and_won_by_player1_serve = (breakpoint_and_won_by_player1_serve / total_breakpoint_serve) * 100 if total_breakpoint_serve > 0 else 0\n",
    "\n",
    "# # Display the total count of points where isBreakPoint = 1 and serverName = first_player1Name\n",
    "# print(f\"\\nTotal Breakpoints on Serve for {first_player1Name}: {total_breakpoint_serve}\")\n",
    "\n",
    "# # Display the count and percentage of points where isBreakPoint = 1, serverName = first_player1Name, and pointWonBy = first_player1Name\n",
    "# print(f\"Total Breakpoints won on Serve by {first_player1Name}: {breakpoint_and_won_by_player1_serve}\")\n",
    "# print(f\"Percentage of Breakpoints won on Serve by {first_player1Name}: {percentage_breakpoint_and_won_by_player1_serve:.2f}%\")\n",
    "\n",
    "# Total points where isBreakPoint = 1 and returnerName = first_player1Name\n",
    "total_breakpoint_return = len(point_df_eda[(point_df_eda['isBreakPoint'] == 1) & (point_df_eda['returnerName'] == first_player1Name)])\n",
    "\n",
    "# Points where isBreakPoint = 1, returnerName = first_player1Name, and pointWonBy = first_player1Name\n",
    "breakpoint_and_won_by_player1_return = len(point_df_eda[(point_df_eda['isBreakPoint'] == 1) & (point_df_eda['returnerName'] == first_player1Name) & (point_df_eda['pointWonBy'] == first_player1Name)])\n",
    "\n",
    "# Percentage of points where isBreakPoint = 1, returnerName = first_player1Name, and pointWonBy = first_player1Name out of total points where isBreakPoint = 1 and returnerName = first_player1Name\n",
    "percentage_breakpoint_and_won_by_player1_return = (breakpoint_and_won_by_player1_return / total_breakpoint_return) * 100 if total_breakpoint_return > 0 else 0\n",
    "\n",
    "# Display the total count of points where isBreakPoint = 1 and returnerName = first_player1Name\n",
    "print(f\"\\nTotal Breakpoints on Return for {first_player1Name}: {total_breakpoint_return}\")\n",
    "\n",
    "# Display the count and percentage of points where isBreakPoint = 1, returnerName = first_player1Name, and pointWonBy = first_player1Name\n",
    "print(f\"Total Breakpoints won on Return by {first_player1Name}: {breakpoint_and_won_by_player1_return}\")\n",
    "print(f\"Percentage of Breakpoints won on Return by {first_player1Name}: {percentage_breakpoint_and_won_by_player1_return:.2f}%\")\n",
    "\n",
    "# Jimmy Returning Games Won\n",
    "# games won/returning games by Jimmy Hou\n",
    "\n",
    "points_returned = point_df_eda[point_df_eda[\"returnerName\"] == first_player1Name]\n",
    "\n",
    "# # Return percentage won on first serve\n",
    "# first_serves_won = points_returned[(points_returned['firstServeIn'] == 1) & (points_returned['pointWonBy'] == first_player1Name)]\n",
    "# total_first_serves = points_returned[points_returned['firstServeIn'] == 1]\n",
    "# fs_won_per_player1 = 100 * len(first_serves_won) / len(total_first_serves)\n",
    "# # print(f\"\\n{player1} won {fs_won_per_player1:.2f}% of first serves returned.\")\n",
    "# print(f\"\\nPerecentage of Breakpoinnts won by {first_player1Name} on Return when returning a first serve: {fs_won_per_player1:.2f}%\")\n",
    "\n",
    "# # Return percentage won on second serve\n",
    "# second_serves_won = points_returned[(points_returned['secondServeIn'] == 1) & (points_returned['pointWonBy'] == first_player1Name)]\n",
    "# total_second_serves = points_returned[points_returned['secondServeIn'] == 1]\n",
    "# ss_won_per_player1 = 100 * len(second_serves_won) / len(total_second_serves)\n",
    "# # print(f\"{player1} won {ss_won_per_player1:.2f}% of second serves returned.\"\n",
    "# print(f\"Perecentage of Breakpoinnts won by {first_player1Name} on Return when returning a second serve: {ss_won_per_player1:.2f}%\")\n"
   ]
  },
  {
   "cell_type": "code",
   "execution_count": null,
   "id": "9523784a",
   "metadata": {},
   "outputs": [],
   "source": [
    "point_df_eda.columns"
   ]
  },
  {
   "cell_type": "code",
   "execution_count": null,
   "id": "a90e9704-73c6-4403-bb7d-1e4440fbe867",
   "metadata": {},
   "outputs": [],
   "source": [
    "# Filter points where serverName is equal to first_player1Name\n",
    "filtered_points = point_df[point_df['serverName'] == first_player1Name]\n",
    "\n",
    "# Group the filtered points by player1ServePlacement and count the occurrences\n",
    "serve_placement_counts = filtered_points.groupby('player1ServePlacement').size()\n",
    "\n",
    "serve_placements_ad = serve_placement_counts.filter(like='Ad').sum()\n",
    "serve_placements_deuce = serve_placement_counts.filter(like='Deuce').sum()\n",
    "\n",
    "# Iterate over filtered_points\n",
    "for index, point in filtered_points.iterrows():\n",
    "    serve_placement = point['player1ServePlacement']\n",
    "\n",
    "    # Check if serve placement is not in serve_placement_counts\n",
    "    if serve_placement not in serve_placement_counts:\n",
    "        print(point)\n",
    "\n",
    "\n",
    "# Initialize dictionaries to store counts and percentages\n",
    "point_won_counts = {}\n",
    "point_won_percentages = {}\n",
    "print(f\"Total {len(filtered_points)}\")\n",
    "\n",
    "# Iterate over serve placements\n",
    "for serve_placement, count in serve_placement_counts.items():\n",
    "    # Filter points with the specific serve placement\n",
    "    serve_placement_points = filtered_points[filtered_points['player1ServePlacement'] == serve_placement]\n",
    "    \n",
    "    # Count points won by first_player1Name\n",
    "    point_won_count = serve_placement_points[serve_placement_points['pointWonBy'] == first_player1Name].shape[0]\n",
    "\n",
    "    # Calculate percentage\n",
    "    point_won_percentage = (point_won_count / count) * 100 if count > 0 else 0\n",
    "\n",
    "    # Store counts and percentages\n",
    "    point_won_counts[serve_placement] = point_won_count\n",
    "    point_won_percentages[serve_placement] = point_won_percentage\n",
    "    \n",
    "\n",
    "\n",
    "    \n",
    "    \n",
    "# Filter serve placements for Ad and Deuce [CHANGED: BRIAN NTOES]\n",
    "serve_placements_ad = serve_placement_counts.filter(like='Ad').sum()\n",
    "serve_placements_deuce = serve_placement_counts.filter(like='Deuce').sum()    \n",
    "\n",
    "# Print counts and percentages [CHANGED: BRIAN NOTES]\n",
    "for serve_placement, count in serve_placement_counts.items():\n",
    "    print(f\"Serve Placement: {serve_placement}\")\n",
    "    print(f\"Total Serves: {count}\")\n",
    "    \n",
    "    if \"Deuce\" in serve_placement: # [CHANGED: BRIAN NOTES]\n",
    "        deuce_serve_format_number = f\"{count/serve_placements_deuce:.2f}\"\n",
    "        deuce_serve_percent = round(float(deuce_serve_format_number) * 100,2)\n",
    "        print(f\"Serve Frequency: {deuce_serve_percent}% ({count}/{serve_placements_deuce}) Deuce Serves\")\n",
    "    if \"Ad\" in serve_placement: # [CHANGED: BRIAN NOTES]\n",
    "        ad_serve_format_number = f\"{count/serve_placements_ad:.2f}\"\n",
    "        ad_serve_percent = round(float(ad_serve_format_number) * 100,2)\n",
    "        print(f\"Serve Frequency: {ad_serve_percent}% ({count}/{serve_placements_ad}) Ad Serves\")\n",
    "        \n",
    "    print(f\"Serves Won by {first_player1Name}: {point_won_counts.get(serve_placement, 0)}\")\n",
    "    print(f\"Percentage: {point_won_percentages.get(serve_placement, 0):.2f}%\\n\")\n",
    "\n",
    "    \n",
    "# print(\"This is Ad count: \" + str(len(point_df[(point_df['serverName'] == first_player1Name) & (point_df['side'] == 'Ad')])))\n",
    "# print(\"This is Deuce count: \" + str(len(point_df[(point_df['serverName'] == first_player1Name) & (point_df['side'] == 'Deuce')])))"
   ]
  },
  {
   "cell_type": "code",
   "execution_count": null,
   "id": "cecb4031-2e96-4d9a-aef9-b36aacede064",
   "metadata": {},
   "outputs": [],
   "source": [
    "print(f\"\\nError Data for {first_player1Name}:\\n\")\n",
    "# Filter the DataFrame based on specified conditions\n",
    "total_errors = point_df[(point_df['lastShotHitBy'] == first_player1Name) &\n",
    "                           (point_df['lastShotResult'] == 'Error')]\n",
    "\n",
    "import numpy as np\n",
    "\n",
    "# Filter rows without NaN values in relevant columns\n",
    "forehand_errors = point_df[(point_df['lastShotHitBy'] == first_player1Name) &\n",
    "                           (point_df['lastShotResult'] == 'Error') &\n",
    "                           (point_df['lastShotFhBh'] == 'Forehand') &\n",
    "                           (~point_df['errorType'].isnull())]  # Ensure 'errorType' column doesn't have NaN\n",
    " \n",
    "backhand_errors = point_df[(point_df['lastShotHitBy'] == first_player1Name) &\n",
    "                           (point_df['lastShotResult'] == 'Error') &\n",
    "                           (point_df['lastShotFhBh'] == 'Backhand') &\n",
    "                           (~point_df['errorType'].isnull())]  # Ensure 'errorType' column doesn't have NaN\n",
    "\n",
    "# Count the occurrences of 'Forehand' and 'Backhand' separately\n",
    "forehand_counts = forehand_errors.shape[0]  # Count rows\n",
    "backhand_counts = backhand_errors.shape[0]  # Count rows\n",
    "\n",
    "# Print the total error counts for verification\n",
    "total_error_counts = forehand_counts + backhand_counts\n",
    "\n",
    "\n",
    "\n",
    "# Desired output order \n",
    "desired_order = ['Net', 'Long', 'Wide Right', 'Wide Left'] \n",
    "\n",
    "# # Get value counts of 'errorType' for Forehand errors [CHANGED: BRIAN]\n",
    "# forehand_error_types = forehand_errors['errorType'].value_counts(dropna=False).loc[desired_order]  # Include NaN values in count\n",
    "# forehand_error_types_df = pd.DataFrame(forehand_error_types) # change into dataframe to erase object line\n",
    "# Get value counts of 'errorType' for Backhand errors\n",
    "\n",
    "\n",
    "\n",
    "######################### CHANGED SECTION ##############################################\n",
    "# [CHANGED: BRIAN]\n",
    "\n",
    "forehand_error_types = forehand_errors['errorType'].value_counts(dropna=False)\n",
    "\n",
    "# Create a Series with desired index containing zeros\n",
    "zeros_series = pd.Series(0, index=desired_order)\n",
    "\n",
    "# Combine the original Series with the zeros Series\n",
    "forehand_error_types_combined = forehand_error_types.combine(zeros_series, max, fill_value=0)\n",
    "\n",
    "# Reindex the Series to follow the desired order\n",
    "forehand_error_types_ordered = forehand_error_types_combined.reindex(desired_order, fill_value=0)\n",
    "\n",
    "# Create the DataFrame\n",
    "forehand_error_types_df = pd.DataFrame(forehand_error_types_ordered, columns=['Count'])\n",
    "\n",
    "# Get value counts of 'errorType' for Backhand errors [CHANGED: BRIAN]\n",
    "# backhand_error_types = backhand_errors['errorType'].value_counts(dropna=False).loc[desired_order]  # Include NaN values in count\n",
    "# backhand_error_types_df = pd.DataFrame(backhand_error_types) # change into dataframe to erase object line\n",
    "\n",
    "# Get value counts of 'errorType' for Backhand errors\n",
    "backhand_error_types = backhand_errors['errorType'].value_counts(dropna=False)\n",
    "\n",
    "# Combine the original Series with the zeros Series\n",
    "backhand_error_types_combined = backhand_error_types.combine(zeros_series, max, fill_value=0)\n",
    "\n",
    "# Reindex the Series to follow the desired order\n",
    "backhand_error_types_ordered = backhand_error_types_combined.reindex(desired_order, fill_value=0)\n",
    "\n",
    "# Create the DataFrame\n",
    "backhand_error_types_df = pd.DataFrame(backhand_error_types_ordered, columns=['Count'])\n",
    "\n",
    "\n",
    "\n",
    "######################### CHANGED SECTION ##############################################\n",
    "\n",
    "\n",
    "# Print the counts and error types\n",
    "print(\"Count of Total errors:\", total_error_counts)\n",
    "print(\"Count of Forehand errors:\", forehand_counts)\n",
    "print(f\"Forehand Error %: {(forehand_counts/total_error_counts)*100:.2f}%\")\n",
    "print(\"Count of Backhand errors:\", backhand_counts)\n",
    "print(f\"Backhand Error %: {(backhand_counts/total_error_counts)*100:.2f}%\")\n",
    "print(\"\\nForehand errors:\\n\", forehand_error_types_df)\n",
    "\n",
    "\n",
    "# # Group by both 'lastShotDirection' and 'errorType', and then count occurrences\n",
    "forehand_error_counts = forehand_errors.groupby(['player1LastShotPlacement', 'errorType']).size().unstack(fill_value=0)  # Fill NaN with 0\n",
    "forehand_error_counts_ordered = forehand_error_counts.reindex(columns = desired_order) # [CHANGED: BRIAN]\n",
    "\n",
    "print(\"\\nValue counts of 'errorType' for Forehand errors with different directions:\\n\", forehand_error_counts_ordered)\n",
    "\n",
    "\n",
    "print(\"\\nBackhand errors:\\n\", backhand_error_types_df)\n",
    "\n",
    "\n",
    "# Group by both 'lastShotDirection' and 'errorType', and then count occurrences\n",
    "backhand_error_counts = backhand_errors.groupby(['player1LastShotPlacement', 'errorType']).size().unstack(fill_value=0) # Fill NaN with 0\n",
    "backhand_error_counts_ordered = backhand_error_counts.reindex(columns = desired_order) # [CHANGED: BRIAN]\n",
    "\n",
    "print(\"\\nValue counts of 'errorType' for Backhand errors with different directions:\\n\", backhand_error_counts_ordered)"
   ]
  },
  {
   "cell_type": "markdown",
   "id": "7b8c4147",
   "metadata": {},
   "source": [
    "# CONDENSED REPORT NEEDS UPDATE"
   ]
  },
  {
   "cell_type": "code",
   "execution_count": null,
   "id": "fed6e23a",
   "metadata": {},
   "outputs": [],
   "source": [
    "pd.set_option(\"display.max_columns\", None)\n",
    "point_df.head()"
   ]
  },
  {
   "cell_type": "markdown",
   "id": "5e73ced0",
   "metadata": {},
   "source": [
    "### Using FPDF package"
   ]
  },
  {
   "cell_type": "code",
   "execution_count": null,
   "id": "c4938659",
   "metadata": {},
   "outputs": [],
   "source": [
    "from fpdf import FPDF\n",
    "import pandas as pd\n",
    "import os"
   ]
  },
  {
   "cell_type": "markdown",
   "id": "9f04e5e3",
   "metadata": {},
   "source": [
    "### Needed Variables"
   ]
  },
  {
   "cell_type": "code",
   "execution_count": null,
   "id": "f04c4d3a",
   "metadata": {},
   "outputs": [],
   "source": [
    "# Variables that will be passed into the code (Replace these with your actual dataset values)\n",
    "player_name = point_df['player1Name'].iloc[0]\n",
    "opponent_name = point_df['player2Name'].iloc[0]\n",
    "client_team = point_df['clientTeam'].iloc[0]\n",
    "opponent_team = point_df['opponentTeam'].iloc[0]\n",
    "\n",
    "set_list = point_df['setNum'].unique()\n",
    "set_list[1]\n",
    "\n",
    "current_set = point_df[point_df['setNum'] == 1]\n",
    "last_index = len(current_set) - 1\n",
    "game_score = point_df.iloc[last_index]['gameScore']\n",
    "\n",
    "player_game = game_score.split(\"-\")[0]\n",
    "opponent_game = game_score.split(\"-\")[1]\n",
    "\n",
    "# if '5' in game_score:\n",
    "#     if '5-' in game_score:\n",
    "\n",
    "# point_df.iloc[52]['setScore']\n",
    "\n",
    "# for i in point_df['setNum'].unique():\n",
    "#     current_set = point_df[point_df['setNum'] == i]\n",
    "#     last_index = len(current_set) - 1\n",
    "#     game_score = point_df.iloc[last_index]['gameScore']\n",
    "    \n"
   ]
  },
  {
   "cell_type": "markdown",
   "id": "ae8ee656",
   "metadata": {},
   "source": [
    "### Create PDF"
   ]
  },
  {
   "cell_type": "code",
   "execution_count": null,
   "id": "614c6cdc-fec8-4ad1-9417-2db45e74a4ae",
   "metadata": {},
   "outputs": [],
   "source": [
    "# Create PDF\n",
    "pdf = FPDF()\n",
    "pdf.add_page()\n",
    "\n",
    "# Add font (must have in directory)\n",
    "pdf.add_font('Lato Regular', '', os.path.join(os.getcwd(), 'Lato-Regular.ttf'), uni=True)\n",
    "\n",
    "# Title\n",
    "pdf.set_font(\"Lato Regular\", size=20)\n",
    "pdf.cell(200, 5, txt=\"Match Report Summary\", ln=True, align='C')\n",
    "pdf.ln(5)\n",
    "\n",
    "# Match players and score\n",
    "pdf.set_font_size(size=14)\n",
    "pdf.cell(200, 5, txt=f\"{player_name} ({client_team}) (w) v. ({opponent_name}) ({opponent_team})\", ln=True, align='C')\n",
    "pdf.cell(200, 10, txt=\"0-0 0-0 0-0\", ln=True, align='C')\n",
    "pdf.ln(10)\n",
    "\n",
    "# Set up column widths and heights for alignment\n",
    "column_width = 90\n",
    "line_height = 7\n",
    "\n",
    "# # Left Side - Returns\n",
    "# pdf.set_font_size(size=14)\n",
    "# pdf.cell(column_width, line_height, txt=\"Returns\", ln=False, align='L')\n",
    "\n",
    "# pdf.set_font(\"Arial\", size=18)\n",
    "# pdf.cell(column_width, line_height, txt=\"Errors\", ln=True, align='L')\n",
    "# pdf.ln(5)\n",
    "\n",
    "# # Returns Section (Left Side)\n",
    "# pdf.set_font(\"Arial\", size=11)\n",
    "\n",
    "# # Total Return Stats\n",
    "# pdf.cell(column_width, line_height, txt=f\"Total Return Made: {returnMadePercentage*100:.2f}% ({total_return})\", ln=False, align='L')\n",
    "# pdf.cell(column_width, line_height, txt=f\"Total: {total_error_counts}\", ln=True, align='L')\n",
    "\n",
    "# pdf.cell(column_width, line_height, txt=f\"Total Return Won: {returnWonByPlayer1Percentage:.2f}% ({returnWonByPlayer1})\", ln=False, align='L')\n",
    "# pdf.cell(column_width, line_height, txt=f\"Forehand errors ({(forehand_counts/total_error_counts)*100:.2f}%):\", ln=True, align='L')\n",
    "\n",
    "# # Deuce and Ad Return Stats\n",
    "# pdf.cell(column_width, line_height, txt=f\"Deuce Return Made: {deuceReturnMadePercentage:.2f}% ({count_deuce_forehand_made})\", ln=False, align='L')\n",
    "# pdf.cell(column_width, line_height, txt=f\"Net: {forehand_error_types_df.loc['Net', 'Count']}\", ln=True, align='L')\n",
    "\n",
    "# pdf.cell(column_width, line_height, txt=f\"Deuce Return Won: {returnWonByPlayer1Percentage:.2f}% ({count_deuce_forehand_error})\", ln=False, align='L')\n",
    "# pdf.cell(column_width, line_height, txt=f\"Long: {forehand_error_types_df.loc['Long', 'Count']}\", ln=True, align='L')\n",
    "\n",
    "# pdf.cell(column_width, line_height, txt=\"  Forehand Return:\", ln=False, align='L')\n",
    "# pdf.cell(column_width, line_height, txt=f\"Wide Right: {forehand_error_types_df.loc['Wide Right', 'Count']}\", ln=True, align='L')\n",
    "# pdf.cell(column_width, line_height, txt=\"    Made:   | Error:\", ln=False, align='L')\n",
    "# pdf.cell(column_width, line_height, txt=f\"Backhand errors ({(backhand_counts/total_error_counts)*100:.2f}%):\", ln=True, align='L')\n",
    "\n",
    "# pdf.cell(column_width, line_height, txt=\"  Backhand Return:\", ln=False, align='L')\n",
    "# pdf.cell(column_width, line_height, txt=\"Net: \" + str(backhand_error_types_df.loc['Net', 'Count']), ln=True, align='L')\n",
    "# pdf.cell(column_width, line_height, txt=\"    Made:   | Error:\", ln=False, align='L')\n",
    "# pdf.cell(column_width, line_height, txt=\"Crosscourt: \", ln=True, align='L')\n",
    "\n",
    "# pdf.cell(column_width, line_height, txt=f\"Ad Return Made: {adReturnMadePercentage:.2f}% ({count_deuce_backhand_made})\", ln=False, align='L')\n",
    "# pdf.cell(column_width, line_height, txt=\"Down the Line: \", ln=True, align='L')\n",
    "\n",
    "# pdf.cell(column_width, line_height, txt=f\"Ad Return Won: {returnWonByPlayer1Percentage:.2f}% ({count_deuce_backhand_error})\", ln=False, align='L')\n",
    "# pdf.cell(column_width, line_height, txt=\"Long: \", ln=True, align='L')\n",
    "\n",
    "# pdf.cell(column_width, line_height, txt=\"  Forehand Return:\", ln=False, align='L')\n",
    "# pdf.cell(column_width, line_height, txt=\"Crosscourt: \", ln=True, align='L')\n",
    "# pdf.cell(column_width, line_height, txt=\"    Made:   | Error:\", ln=False, align='L')\n",
    "# pdf.cell(column_width, line_height, txt=\"Down the Line: \", ln=True, align='L')\n",
    "\n",
    "# pdf.cell(column_width, line_height, txt=\"  Backhand Return:\", ln=False, align='L')\n",
    "# pdf.cell(column_width, line_height, txt=\"Wide Right: \", ln=True, align='L')\n",
    "# pdf.cell(column_width, line_height, txt=\"    Made:   | Error:\", ln=False, align='L')\n",
    "# pdf.cell(column_width, line_height, txt=\"Wide Left: \", ln=True, align='L')\n",
    "\n",
    "# pdf.cell(column_width, line_height, txt=\"Down the Line: \", ln=False, align='L')\n",
    "# pdf.ln(10)\n",
    "\n",
    "# # Right Side - Errors\n",
    "# pdf.set_font(\"Arial\", size=11)\n",
    "# pdf.cell(column_width, line_height, txt=\"Net Points\", ln=False, align='L')\n",
    "# pdf.ln(5)\n",
    "\n",
    "# # Total Net Points\n",
    "# pdf.cell(column_width, line_height, txt=f\"Total Net Points for {player_name}: {total_at_net_player1}\", ln=False, align='L')\n",
    "# pdf.cell(column_width, line_height, txt=f\"Percentage of Net Points for {player_name}: {percentage_at_net_player1:.2f}%\", ln=True, align='L')\n",
    "\n",
    "# pdf.cell(column_width, line_height, txt=f\"Total Net Points won by {player_name}: {at_net_player1_and_won_by_player1}\", ln=False, align='L')\n",
    "# pdf.cell(column_width, line_height, txt=f\"Percentage of Net Points won by {player_name}: {percentage_at_net_player1_and_won_by_player1:.2f}%\", ln=True, align='L')\n",
    "# pdf.ln(5)\n",
    "\n",
    "# Save PDF based on players' names\n",
    "pdf_name = f\"{player_name}_vs_{opponent_name}_match_report.pdf\"\n",
    "pdf.output(f\"{pdf_name}\")\n",
    "\n",
    "print(f\"PDF generated: {pdf_name}\")\n"
   ]
  },
  {
   "cell_type": "code",
   "execution_count": null,
   "id": "fc43de2b",
   "metadata": {},
   "outputs": [],
   "source": []
  }
 ],
 "metadata": {
  "kernelspec": {
   "display_name": "base",
   "language": "python",
   "name": "python3"
  },
  "language_info": {
   "codemirror_mode": {
    "name": "ipython",
    "version": 3
   },
   "file_extension": ".py",
   "mimetype": "text/x-python",
   "name": "python",
   "nbconvert_exporter": "python",
   "pygments_lexer": "ipython3",
   "version": "3.11.5"
  }
 },
 "nbformat": 4,
 "nbformat_minor": 5
}
