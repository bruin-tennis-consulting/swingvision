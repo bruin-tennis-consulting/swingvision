{
 "cells": [
  {
   "cell_type": "markdown",
   "id": "a7732809-2f64-4073-92cd-53c6a89ae448",
   "metadata": {},
   "source": [
    "# Swing Vision Transformation\n",
    "#### Converting SwingVision data into UCLA Tennis Consulting format\n",
    "#### Run all cells ONCE; restart Kernel and Run All again if needed"
   ]
  },
  {
   "cell_type": "markdown",
   "id": "f4d08df3",
   "metadata": {},
   "source": [
    "#### TODO\n",
    "- add firstServeLocation and isLet Columns\n",
    "- Classification Models for isDropshot, isLob, isApproach - Leo's team"
   ]
  },
  {
   "cell_type": "markdown",
   "id": "92515296",
   "metadata": {},
   "source": [
    "## Notebook Start"
   ]
  },
  {
   "cell_type": "code",
   "execution_count": null,
   "id": "04597b9f",
   "metadata": {},
   "outputs": [],
   "source": [
    "import pandas as pd\n",
    "import numpy as np\n",
    "import os \n",
    "import re\n",
    "\n",
    "# Option to display max rows/columns\n",
    "pd.set_option('display.max_rows', None)\n",
    "pd.set_option('display.max_columns', None)"
   ]
  },
  {
   "cell_type": "markdown",
   "id": "ce781fd6",
   "metadata": {},
   "source": [
    "### Load in data"
   ]
  },
  {
   "cell_type": "code",
   "execution_count": null,
   "id": "25bd5d3d",
   "metadata": {
    "scrolled": false
   },
   "outputs": [],
   "source": [
    "# Input file name here\n",
    "your_file_name = '/Users/cjgimena/Desktop/Github/swingvision/kaylan_usc/(playsight)kaylan_usc.xlsx'\n",
    "swing_data = pd.read_excel(your_file_name, sheet_name='Shots')\n",
    "swing_data.shape"
   ]
  },
  {
   "cell_type": "code",
   "execution_count": null,
   "id": "17c05d1f",
   "metadata": {},
   "outputs": [],
   "source": [
    "swing_data.head()"
   ]
  },
  {
   "cell_type": "code",
   "execution_count": null,
   "id": "56070921",
   "metadata": {},
   "outputs": [],
   "source": [
    "swing_data[swing_data['Point'] == 43]"
   ]
  },
  {
   "cell_type": "markdown",
   "id": "34a8a49e",
   "metadata": {},
   "source": [
    "## Clean swing vision data"
   ]
  },
  {
   "cell_type": "code",
   "execution_count": null,
   "id": "d47c657e",
   "metadata": {
    "scrolled": true
   },
   "outputs": [],
   "source": [
    "swing_data.query('Stroke == \"Feed\"').shape"
   ]
  },
  {
   "cell_type": "code",
   "execution_count": null,
   "id": "07d82d0d",
   "metadata": {
    "scrolled": true
   },
   "outputs": [],
   "source": [
    "swing_data.query('Shot == 0').shape"
   ]
  },
  {
   "cell_type": "code",
   "execution_count": null,
   "id": "4f4f0375",
   "metadata": {
    "scrolled": true
   },
   "outputs": [],
   "source": [
    "swing_data.query('Type == \"none\"').shape"
   ]
  },
  {
   "cell_type": "markdown",
   "id": "4e6125cc",
   "metadata": {},
   "source": [
    "### Updated Rows to Drop\n",
    "- Drop all \"Feed\" rows"
   ]
  },
  {
   "cell_type": "code",
   "execution_count": null,
   "id": "16de5603",
   "metadata": {},
   "outputs": [],
   "source": [
    "swing_data.query('Stroke == \"Feed\"')"
   ]
  },
  {
   "cell_type": "code",
   "execution_count": null,
   "id": "82beaaf1",
   "metadata": {},
   "outputs": [],
   "source": [
    "rows_to_drop = swing_data.query('Stroke == \"Feed\"').index\n",
    "swing_data = swing_data.drop(rows_to_drop)\n",
    "swing_data = swing_data.reset_index(drop=True) # Important to reindex to avoid missing indicies\n",
    "swing_data.shape"
   ]
  },
  {
   "cell_type": "code",
   "execution_count": null,
   "id": "242ec913",
   "metadata": {},
   "outputs": [],
   "source": [
    "none_data = swing_data.query('Type == \"none\"')\n",
    "none_data"
   ]
  },
  {
   "cell_type": "code",
   "execution_count": null,
   "id": "80806aa3",
   "metadata": {},
   "outputs": [],
   "source": [
    "points = []\n",
    "\n",
    "def points_to_drop(none_data):\n",
    "    unique_points = none_data['Point'].unique()\n",
    "    for i in unique_points:\n",
    "        current_point = none_data[none_data['Point'] == i]\n",
    "        if len(current_point['Shot'].unique()) == 1:  # Check if only one unique value\n",
    "            points.extend(current_point.index.tolist())  # Append all indexes for this point\n",
    "    return points\n",
    "\n",
    "drop_index = points_to_drop(none_data)\n",
    "print(drop_index)"
   ]
  },
  {
   "cell_type": "markdown",
   "id": "353fb6ff",
   "metadata": {},
   "source": [
    "### Manually Check these points when cleaning"
   ]
  },
  {
   "cell_type": "code",
   "execution_count": null,
   "id": "3aa27387",
   "metadata": {},
   "outputs": [],
   "source": [
    "points = []\n",
    "\n",
    "def points_to_keep(none_data):\n",
    "    unique_points = none_data['Point'].unique()\n",
    "    for i in unique_points:\n",
    "        current_point = none_data[none_data['Point'] == i]\n",
    "        if len(current_point['Shot'].unique()) > 1:  # Check if more than one unique value\n",
    "            points.append(i)  # Append the Point value itself\n",
    "    return points\n",
    "\n",
    "result = points_to_keep(none_data)\n",
    "print(f'Point Numbers to Manually Check! {points}')"
   ]
  },
  {
   "cell_type": "code",
   "execution_count": null,
   "id": "21bf8ba4",
   "metadata": {},
   "outputs": [],
   "source": [
    "swing_data[swing_data['Point'] == 113]"
   ]
  },
  {
   "cell_type": "code",
   "execution_count": null,
   "id": "42925ba1",
   "metadata": {},
   "outputs": [],
   "source": [
    "swing_data = swing_data.drop(drop_index)\n",
    "swing_data = swing_data.reset_index(drop=True) # Important to reindex to avoid missing indicies\n",
    "swing_data.shape"
   ]
  },
  {
   "cell_type": "markdown",
   "id": "95209941",
   "metadata": {},
   "source": [
    "### Load in Points data"
   ]
  },
  {
   "cell_type": "code",
   "execution_count": null,
   "id": "68bf0b8e",
   "metadata": {},
   "outputs": [],
   "source": [
    "swing_data_points = pd.read_excel(your_file_name, sheet_name='Points')\n",
    "swing_data_points.shape"
   ]
  },
  {
   "cell_type": "code",
   "execution_count": null,
   "id": "16df7f16",
   "metadata": {},
   "outputs": [],
   "source": [
    "def create_point(server, player1score, player2score):\n",
    "    if server == \"host\":\n",
    "        return str(player1score) + \"-\" + str(player2score)\n",
    "    else:\n",
    "        return str(player2score) + \"-\" + str(player1score)\n",
    "    \n",
    "swing_data_points['pointScore'] = swing_data_points.apply(lambda x: create_point(x['Match Server'], x['Host Game Score'], x['Guest Game Score']), axis=1)"
   ]
  },
  {
   "cell_type": "code",
   "execution_count": null,
   "id": "03280751",
   "metadata": {},
   "outputs": [],
   "source": [
    "swing_data_points = swing_data_points.rename(columns={'Break Point' : 'isBreakPoint'})\n",
    "swing_data_points['isBreakPoint'] = swing_data_points['isBreakPoint'].replace(False, '')\n",
    "swing_data_points['isBreakPoint'] = swing_data_points['isBreakPoint'].replace(True, 1)"
   ]
  },
  {
   "cell_type": "code",
   "execution_count": null,
   "id": "ef10039b",
   "metadata": {},
   "outputs": [],
   "source": [
    "swing_data_points = swing_data_points[['Point', 'pointScore', 'isBreakPoint']]\n",
    "swing_data_points.head()"
   ]
  },
  {
   "cell_type": "code",
   "execution_count": null,
   "id": "2d81a549",
   "metadata": {},
   "outputs": [],
   "source": [
    "swing_data = pd.merge(swing_data, swing_data_points, on='Point')"
   ]
  },
  {
   "cell_type": "markdown",
   "id": "7f5838ef",
   "metadata": {},
   "source": [
    "### Load in Games data"
   ]
  },
  {
   "cell_type": "code",
   "execution_count": null,
   "id": "bca8e1b3",
   "metadata": {},
   "outputs": [],
   "source": [
    "swing_data_games = pd.read_excel(your_file_name, sheet_name='Games')\n",
    "swing_data_games.shape"
   ]
  },
  {
   "cell_type": "code",
   "execution_count": null,
   "id": "22144b52",
   "metadata": {},
   "outputs": [],
   "source": [
    "swing_data_games.head()"
   ]
  },
  {
   "cell_type": "code",
   "execution_count": null,
   "id": "461aeb35",
   "metadata": {},
   "outputs": [],
   "source": [
    "def create_game(player1game, player2game):\n",
    "        return str(player1game) + \"-\" + str(player2game)\n",
    "\n",
    "    \n",
    "swing_data_games['gameScore'] = swing_data_games.apply(lambda x: create_game(x['Host Set Score'], x['Guest Set Score']),  axis=1)"
   ]
  },
  {
   "cell_type": "code",
   "execution_count": null,
   "id": "fe04f9d7",
   "metadata": {},
   "outputs": [],
   "source": [
    "swing_data_games"
   ]
  },
  {
   "cell_type": "code",
   "execution_count": null,
   "id": "42cbbb2b",
   "metadata": {},
   "outputs": [],
   "source": [
    "swing_data_games = swing_data_games[['Game', 'gameScore']]"
   ]
  },
  {
   "cell_type": "code",
   "execution_count": null,
   "id": "7c6e3047",
   "metadata": {},
   "outputs": [],
   "source": [
    "swing_data = pd.merge(swing_data, swing_data_games, on=\"Game\")"
   ]
  },
  {
   "cell_type": "code",
   "execution_count": null,
   "id": "848bc8e1",
   "metadata": {},
   "outputs": [],
   "source": [
    "swing_data.head()"
   ]
  },
  {
   "cell_type": "markdown",
   "id": "34ec6e15",
   "metadata": {},
   "source": [
    "### Load in Sets data"
   ]
  },
  {
   "cell_type": "code",
   "execution_count": null,
   "id": "aec904e1",
   "metadata": {},
   "outputs": [],
   "source": [
    "swing_data_sets = pd.read_excel(your_file_name, sheet_name='Sets')\n",
    "swing_data_sets.shape"
   ]
  },
  {
   "cell_type": "code",
   "execution_count": null,
   "id": "2e41660d",
   "metadata": {},
   "outputs": [],
   "source": [
    "swing_data_sets"
   ]
  },
  {
   "cell_type": "code",
   "execution_count": null,
   "id": "3a56c70d",
   "metadata": {},
   "outputs": [],
   "source": [
    "host_set_score = 0\n",
    "guest_set_score = 0\n",
    "\n",
    "def create_set(set_winner):\n",
    "        global host_set_score, guest_set_score  # Declare global variables\n",
    "        if set_winner == \"host\":\n",
    "                host_set_score += 1\n",
    "        else:        \n",
    "                guest_set_score += 1\n",
    "        \n",
    "        return str(host_set_score) + \"-\" + str(guest_set_score)\n",
    "\n",
    "swing_data_sets['setScore'] = None\n",
    "swing_data_sets.at[0, 'setScore'] = \"0-0\"\n",
    "    \n",
    "swing_data_sets.iloc[1:, swing_data_sets.columns.get_loc('setScore')] = swing_data_sets.iloc[1:].apply(lambda x: create_set(x['Set Winner']),  axis=1)\n"
   ]
  },
  {
   "cell_type": "code",
   "execution_count": null,
   "id": "930f3765",
   "metadata": {},
   "outputs": [],
   "source": [
    "swing_data_sets = swing_data_sets[['Set', 'setScore']]\n"
   ]
  },
  {
   "cell_type": "code",
   "execution_count": null,
   "id": "1b62d8bc",
   "metadata": {},
   "outputs": [],
   "source": [
    "swing_data = pd.merge(swing_data, swing_data_sets, on=\"Set\")\n",
    "swing_data.head()"
   ]
  },
  {
   "cell_type": "markdown",
   "id": "0c1627ba-42e0-4f65-bc14-56a0025ba925",
   "metadata": {},
   "source": [
    "### Create shot data csv"
   ]
  },
  {
   "cell_type": "code",
   "execution_count": null,
   "id": "9864aae5-8bbb-4d1c-a5f0-78fac5c6b5f2",
   "metadata": {},
   "outputs": [],
   "source": [
    "# Check existing columns\n",
    "swing_data.columns"
   ]
  },
  {
   "cell_type": "code",
   "execution_count": null,
   "id": "a0dd7d5d",
   "metadata": {},
   "outputs": [],
   "source": [
    "swing_data.head()"
   ]
  },
  {
   "cell_type": "code",
   "execution_count": null,
   "id": "31c0ef0d",
   "metadata": {},
   "outputs": [],
   "source": [
    "# add in all desired column labels, with swingvision labels at end\n",
    "\n",
    "columm_names = (['pointScore', 'gameScore', 'setScore',\n",
    "                'isPointStart', 'pointStartTime', 'isPointEnd', 'pointEndTime','pointNumber',\n",
    "                'isBreakPoint','shotInRally','side','serverName',\n",
    "                'serverFarNear','firstServeIn','firstServeZone',\n",
    "                'firstServeXCoord','firstServeYCoord',\n",
    "                'secondServeIn','secondServeZone','secondServeXCoord',\n",
    "                'secondServeYCoord','isAce','shotContactX',\n",
    "                'shotContactY','shotDirection','shotFhBh',\n",
    "                'isSlice','isVolley','isOverhead','isApproach','isDropshot', 'isLet',\n",
    "                'isExcitingPoint','atNetPlayer1','atNetPlayer2','isLob',\n",
    "                'shotLocationX','shotLocationY','isWinner','isErrorWideR', 'isErrorWideL',\n",
    "                'isErrorNet','isErrorLong','clientTeam',\n",
    "                'Date', 'Division', 'Event', 'lineupPosition','matchDetails',\n",
    "                'matchVenue' , 'opponentTeam', \n",
    "                'player1Name', 'player2Name','player1Hand','player2Hand',\n",
    "            'Round','Surface','Notes'])\n",
    "\n",
    "shot_data = pd.DataFrame(columns=columm_names)\n",
    "shot_data"
   ]
  },
  {
   "cell_type": "markdown",
   "id": "3b56c9b2",
   "metadata": {},
   "source": [
    "### Score Columns"
   ]
  },
  {
   "cell_type": "code",
   "execution_count": null,
   "id": "1c9a9fee",
   "metadata": {},
   "outputs": [],
   "source": [
    "shot_data['pointScore'] = swing_data['pointScore']\n",
    "shot_data['gameScore'] = swing_data['gameScore']\n",
    "shot_data['setScore'] = swing_data['setScore']"
   ]
  },
  {
   "cell_type": "code",
   "execution_count": null,
   "id": "98d14c18",
   "metadata": {
    "scrolled": true
   },
   "outputs": [],
   "source": [
    "shot_data.head(10)"
   ]
  },
  {
   "cell_type": "markdown",
   "id": "d3cc1edc-ca80-461d-b0ef-1d6014efe0f8",
   "metadata": {},
   "source": [
    "### isPointStart and isPointEnd columns "
   ]
  },
  {
   "cell_type": "code",
   "execution_count": null,
   "id": "9f2eafdb-5f4d-4203-b876-4fcd7c6a8e1d",
   "metadata": {},
   "outputs": [],
   "source": [
    "def assign_pointstart(x):\n",
    "    if (x == 'first_serve') | (x == 'second_serve'):\n",
    "        return 1\n",
    "    \n",
    "    return ''\n",
    "\n",
    "shot_data['isPointStart'] = swing_data['Type'].apply(assign_pointstart)\n",
    "\n",
    "\n",
    "index_list = []\n",
    "\n",
    "for i in swing_data['Point'].unique().tolist():\n",
    "    last_point_index = swing_data[swing_data['Point'] == i].index[-1]\n",
    "    index_list.append(last_point_index)\n",
    "    \n",
    "shot_data.loc[index_list,'isPointEnd'] = 1\n",
    "shot_data['isPointEnd'] = shot_data['isPointEnd'].fillna('')"
   ]
  },
  {
   "cell_type": "markdown",
   "id": "0231884a",
   "metadata": {},
   "source": [
    "### pointStartTime and pointEndTime Columns"
   ]
  },
  {
   "cell_type": "code",
   "execution_count": null,
   "id": "9624416b",
   "metadata": {},
   "outputs": [],
   "source": [
    "def convert_time(time):\n",
    "    return int(time * 1000)\n",
    "\n",
    "# def convert_time(time):\n",
    "shot_data['pointStartTime'] = swing_data['Video Time'].apply(convert_time)\n",
    "\n",
    "# Assigns last shot time to pointEndTime column\n",
    "shot_data['pointEndTime'] = np.where(shot_data['isPointEnd'] == 1, shot_data['pointStartTime'], '')"
   ]
  },
  {
   "cell_type": "markdown",
   "id": "7a6c8e91",
   "metadata": {},
   "source": [
    "### pointNumber Column"
   ]
  },
  {
   "cell_type": "code",
   "execution_count": null,
   "id": "c1d3e6b5",
   "metadata": {},
   "outputs": [],
   "source": [
    "shot_data['pointNumber'] = swing_data['Point']"
   ]
  },
  {
   "cell_type": "markdown",
   "id": "1a3f63d2",
   "metadata": {},
   "source": [
    "### isBreakPoint Column"
   ]
  },
  {
   "cell_type": "code",
   "execution_count": null,
   "id": "cb8ef80e",
   "metadata": {},
   "outputs": [],
   "source": [
    "shot_data['isBreakPoint'] = swing_data['isBreakPoint']"
   ]
  },
  {
   "cell_type": "markdown",
   "id": "17515b20",
   "metadata": {},
   "source": [
    "### shotInRally column"
   ]
  },
  {
   "cell_type": "code",
   "execution_count": null,
   "id": "e9d55544",
   "metadata": {},
   "outputs": [],
   "source": [
    "shot_data.shotInRally = swing_data.Shot"
   ]
  },
  {
   "cell_type": "markdown",
   "id": "7a9afe71",
   "metadata": {},
   "source": [
    "### side Column"
   ]
  },
  {
   "cell_type": "code",
   "execution_count": null,
   "id": "b953f7f2",
   "metadata": {},
   "outputs": [],
   "source": [
    "def side(x, side, xcoord):\n",
    "    if 'deuce' in x:\n",
    "        return 'Deuce'\n",
    "    elif 'ad' in x:\n",
    "        return 'Ad'\n",
    "    elif 'center_line' in x: # unique values include deuce, ad and center_line\n",
    "        if (side == 'near') & (xcoord > 0):\n",
    "            return 'Deuce'\n",
    "        else:\n",
    "            return 'Ad'\n",
    "    else:\n",
    "        return ''\n",
    "\n",
    "shot_data['side'] = swing_data.apply(lambda x: side(x['Hit Zone'], x['Hit Side'], x['Bounce (x)']), axis = 1)"
   ]
  },
  {
   "cell_type": "markdown",
   "id": "1ba222fb-1038-4a13-952d-3b27ad05c99a",
   "metadata": {},
   "source": [
    "### Players"
   ]
  },
  {
   "cell_type": "code",
   "execution_count": null,
   "id": "25111e46",
   "metadata": {},
   "outputs": [],
   "source": [
    "# ucla roster 24-25 men and womens\n",
    "ucla_roster_24_25 = [\"Gianluca Ballotta\", \n",
    "                   \"Kaylan Bigun\", \n",
    "                   \"Cassius Chinlund\",\n",
    "                   \"Andrei Crabel\",\n",
    "                   \"Alexander Hoogmartens\",\n",
    "                   \"Spencer Johnson\",\n",
    "                   \"Rudy Quan\",\n",
    "                   \"Giacomo Revelli\",\n",
    "                   \"Aadarsh Tripathi\",\n",
    "                   \"Emon van Loben Sels\",\n",
    "                   \"Leo Von Bismark\",\n",
    "                   \n",
    "                   \"Olivia Center\",\n",
    "                   \"Kate Fakih\",\n",
    "                   \"Bianca Fernandez\",\n",
    "                   \"Ahmani Guichard\",\n",
    "                   \"Kimmi Hance\",\n",
    "                   \"Mia Jovic\",\n",
    "                   \"Anne-Christine Lutkemeyer\",\n",
    "                   \"Elise Wagle\"]"
   ]
  },
  {
   "cell_type": "code",
   "execution_count": null,
   "id": "db8bcd0e-6634-44af-a441-44ef71708613",
   "metadata": {},
   "outputs": [],
   "source": [
    "# list of names who are playing in match\n",
    "players = swing_data['Player'].unique()\n",
    "\n",
    "# checks which one is UCLA player\n",
    "is_ucla_player = [any([name in roster_name for roster_name in ucla_roster_24_25]) for name in players]"
   ]
  },
  {
   "cell_type": "code",
   "execution_count": null,
   "id": "aa88dad1-a843-44cc-8493-9feff069f60c",
   "metadata": {},
   "outputs": [],
   "source": [
    "# assigns ucla player to player 1, and non ucla to player 2\n",
    "shot_data.loc[0, \"player1Name\"] = players[is_ucla_player]\n",
    "shot_data.loc[0, \"player2Name\"] = players[np.invert(is_ucla_player)]"
   ]
  },
  {
   "cell_type": "markdown",
   "id": "2c91e23a",
   "metadata": {},
   "source": [
    "### serverName Column"
   ]
  },
  {
   "cell_type": "code",
   "execution_count": null,
   "id": "93fb157a-20b2-4d8c-bfc2-0636560c7e4d",
   "metadata": {},
   "outputs": [],
   "source": [
    "def assign_server_name(stroke, server):\n",
    "    if stroke != 'Serve':\n",
    "        return ''\n",
    "    \n",
    "    if server.startswith(players[is_ucla_player][0]):\n",
    "        return 'Player1'\n",
    "    elif server.startswith(players[np.invert(is_ucla_player)][0]):\n",
    "        return 'Player2'\n",
    "    \n",
    "shot_data['serverName'] = swing_data.apply(lambda x: assign_server_name(x['Stroke'], x['Player']), axis=1)\n",
    "shot_data['serverName'].replace(['', 'na'], pd.NaT, inplace=True)\n",
    "shot_data['serverName'] = shot_data['serverName'].ffill()"
   ]
  },
  {
   "cell_type": "markdown",
   "id": "4f4c6e3a",
   "metadata": {},
   "source": [
    "### serverFarNear Column"
   ]
  },
  {
   "cell_type": "code",
   "execution_count": null,
   "id": "d2849d5d",
   "metadata": {},
   "outputs": [],
   "source": [
    "shot_data.serverFarNear = np.where((swing_data.Stroke == 'Serve'), np.where(swing_data['Hit Side'] == 'far', 'Far', 'Near'), '')\n",
    "shot_data['serverFarNear'].replace(['', 'na'], pd.NaT, inplace=True)\n",
    "shot_data['serverFarNear'] = shot_data['serverFarNear'].ffill()"
   ]
  },
  {
   "cell_type": "code",
   "execution_count": null,
   "id": "61bd2430",
   "metadata": {},
   "outputs": [],
   "source": [
    "shot_data['serverFarNear']"
   ]
  },
  {
   "cell_type": "markdown",
   "id": "dec0d52c",
   "metadata": {},
   "source": [
    "### firstServeIn and secondServeIn Columns"
   ]
  },
  {
   "cell_type": "code",
   "execution_count": null,
   "id": "4e068ce6",
   "metadata": {},
   "outputs": [],
   "source": [
    "shot_data.firstServeIn = np.where((swing_data.Type == 'first_serve'),np.where((shot_data.isPointStart == 1) & (swing_data['Result'] == 'In'), 1, 0), np.nan)\n",
    "shot_data.secondServeIn =np.where((swing_data.Type == 'second_serve') & (shot_data.isPointStart == 1), np.where(swing_data['Result'] == 'In', 1,0), np.nan)"
   ]
  },
  {
   "cell_type": "markdown",
   "id": "4a8fd47f-5ea3-4b3a-a9a7-1ece3f2b2a76",
   "metadata": {},
   "source": [
    "### SwingVision Coord Transformation\n",
    "court coordinates\n",
    "swing vision - meters, near side center marks (0,0)\n",
    "singles court x [-4.1148, 4.1148], y [0, 23.7744]\n",
    "doubles court x [-5.485, 5.485]\n",
    "\n",
    "our coordinates - center of net (0,0)\n",
    "singles court x [-157.5, 157.5], y [-455, 455]\n",
    "\n",
    "shot_x = (157.5/4.1148) * swing_x\n",
    "shot_y = (455/11.8872) * swing_y + 455\n",
    "ratio = 38.2764654418"
   ]
  },
  {
   "cell_type": "markdown",
   "id": "47168580",
   "metadata": {},
   "source": [
    "### firstServeXCoord, firstYServeYCoord, secondServeXCoord, and secondServeyCoord Columns"
   ]
  },
  {
   "cell_type": "code",
   "execution_count": null,
   "id": "4bdeedec",
   "metadata": {},
   "outputs": [],
   "source": [
    "def first_serve_x_coordinates(stroke, x):\n",
    "    if stroke == 'first_serve':\n",
    "        return x * 38.2764654418\n",
    "    else:\n",
    "        return np.nan\n",
    "\n",
    "def first_serve_y_coordinates(stroke, y):\n",
    "    if stroke == 'first_serve':\n",
    "        return (y - 11.8872) * 38.2764654418\n",
    "    else:\n",
    "        return np.nan\n",
    "    \n",
    "shot_data['firstServeXCoord'] = swing_data.apply(lambda row: first_serve_x_coordinates(row['Type'], row['Bounce (x)']), axis=1)\n",
    "shot_data['firstServeYCoord'] = swing_data.apply(lambda row: first_serve_y_coordinates(row['Type'], row['Bounce (y)']), axis=1)\n",
    "\n",
    "\n",
    "def second_serve_x_coordinates(stroke, x):\n",
    "    if stroke == 'second_serve':\n",
    "        return x * 38.2764654418\n",
    "    else:\n",
    "        return np.nan\n",
    "\n",
    "def second_serve_y_coordinates(stroke, y):\n",
    "    if stroke == 'second_serve':\n",
    "        return (y - 11.8872) * 38.2764654418\n",
    "    else:\n",
    "        return np.nan\n",
    "    \n",
    "shot_data['secondServeXCoord'] = swing_data.apply(lambda row: second_serve_x_coordinates(row['Type'], row['Bounce (x)']), axis=1)\n",
    "shot_data['secondServeYCoord'] = swing_data.apply(lambda row: second_serve_y_coordinates(row['Type'], row['Bounce (y)']), axis=1)"
   ]
  },
  {
   "cell_type": "markdown",
   "id": "7d19c2ed",
   "metadata": {},
   "source": [
    "### firstServeZone and secondServeZone Columns\n",
    "- serving zones: T, Body, Wide\n",
    "- Wide: x in [-inf, -105] u [105, inf]\n",
    "- Body: x in [-105, -52.5] u [52.5, 105]\n",
    "- T: x in [-52.5, 52.5]"
   ]
  },
  {
   "cell_type": "code",
   "execution_count": null,
   "id": "44e39282-cd0c-4cd2-8911-e554bb636fd1",
   "metadata": {},
   "outputs": [],
   "source": [
    "def label_zone(x_coord):\n",
    "    if x_coord != '':\n",
    "        x_coord = float(x_coord)\n",
    "        if (x_coord < -105) | (x_coord > 105):\n",
    "            return 'Wide'\n",
    "        elif (-105 <= x_coord <= -52.5) | (52.5 <= x_coord <= 105):\n",
    "            return 'Body'\n",
    "        elif -52.5 < x_coord < 52.5:\n",
    "            return 'T'\n",
    "    return ''\n",
    "\n",
    "# convert x coord to serve zone\n",
    "shot_data.firstServeZone = shot_data.firstServeXCoord.apply(label_zone)\n",
    "shot_data.secondServeZone = shot_data.secondServeXCoord.apply(label_zone)"
   ]
  },
  {
   "cell_type": "code",
   "execution_count": null,
   "id": "cae44ee3",
   "metadata": {},
   "outputs": [],
   "source": [
    "shot_data.head()"
   ]
  },
  {
   "cell_type": "markdown",
   "id": "feb8f03a",
   "metadata": {},
   "source": [
    "### isAce Column"
   ]
  },
  {
   "cell_type": "code",
   "execution_count": null,
   "id": "ea541ed0",
   "metadata": {},
   "outputs": [],
   "source": [
    "shot_data['isAce'] = np.where((swing_data.Stroke == 'Serve') & \n",
    "                              (shot_data.isPointEnd == 1) & \n",
    "                              (shot_data.secondServeIn != 0), 1, np.nan)"
   ]
  },
  {
   "cell_type": "markdown",
   "id": "18fe1ecb",
   "metadata": {},
   "source": [
    "### shotContactX and shotContactY Columns"
   ]
  },
  {
   "cell_type": "code",
   "execution_count": null,
   "id": "3434c140",
   "metadata": {},
   "outputs": [],
   "source": [
    "# Functions to transform the swingvision coordinates\n",
    "def transf_x_coord_sv_to_shot(sv_col) :\n",
    "    return sv_col * 38.2764654418\n",
    "def transf_y_coord_sv_to_shot(sv_col) :\n",
    "    return (sv_col - 11.8872) * 38.2764654418\n",
    "\n",
    "# want to convert swingvision coordinates into our own\n",
    "shot_data['shotContactX'] = transf_x_coord_sv_to_shot(swing_data['Hit (x)'])\n",
    "shot_data['shotContactY'] = transf_y_coord_sv_to_shot(swing_data['Hit (y)'])"
   ]
  },
  {
   "cell_type": "markdown",
   "id": "999654c2",
   "metadata": {},
   "source": [
    "### shotFhBh Column"
   ]
  },
  {
   "cell_type": "code",
   "execution_count": null,
   "id": "5af7313f",
   "metadata": {},
   "outputs": [],
   "source": [
    "def classify_shot(stroke):\n",
    "    if stroke == 'FH Volley':\n",
    "        return 'Forehand'\n",
    "    elif stroke == 'BH Volley':\n",
    "        return 'Backhand'\n",
    "    elif stroke == 'Forehand':\n",
    "        return 'Forehand'\n",
    "    elif stroke == 'Backhand':\n",
    "        return 'Backhand'\n",
    "    elif stroke == 'Overhead':\n",
    "        return 'Forehand'\n",
    "    else:\n",
    "        return ''\n",
    "\n",
    "# Applying the function to the DataFrame\n",
    "shot_data['shotFhBh'] = swing_data['Stroke'].apply(classify_shot)"
   ]
  },
  {
   "cell_type": "markdown",
   "id": "1fbdc49e",
   "metadata": {},
   "source": [
    "### isSlice, isTopspin, isFlat, isKick Columns"
   ]
  },
  {
   "cell_type": "code",
   "execution_count": null,
   "id": "222243b8",
   "metadata": {},
   "outputs": [],
   "source": [
    "shot_data['isSlice'] = swing_data['Spin'].apply(lambda x: '1' if x == 'Slice' else '')\n",
    "shot_data['isTopspin'] = swing_data['Spin'].apply(lambda x: '1' if x == 'Topspin' else '') # added these metrics\n",
    "shot_data['isFlat'] = swing_data['Spin'].apply(lambda x: '1' if x == 'Flat' else '') # added these metrics\n",
    "shot_data['isKick'] = swing_data['Spin'].apply(lambda x: '1' if x == 'Kick' else '') # added these metrics"
   ]
  },
  {
   "cell_type": "markdown",
   "id": "a5ca246c",
   "metadata": {},
   "source": [
    "### isVolley Column"
   ]
  },
  {
   "cell_type": "code",
   "execution_count": null,
   "id": "fcd50373",
   "metadata": {},
   "outputs": [],
   "source": [
    "shot_data['isVolley'] = swing_data['Stroke'].apply(lambda x: 1 if x in ['FH Volley', 'BH Volley', 'Volley'] else '') # need to classify shotFhBh when doing isVolley"
   ]
  },
  {
   "cell_type": "markdown",
   "id": "8caf6c64",
   "metadata": {},
   "source": [
    "### isOverhead Column"
   ]
  },
  {
   "cell_type": "code",
   "execution_count": null,
   "id": "6b388e81",
   "metadata": {},
   "outputs": [],
   "source": [
    "shot_data['isOverhead'] = swing_data['Stroke'].apply(lambda x: 1 if x == 'Overhead' else '')"
   ]
  },
  {
   "cell_type": "markdown",
   "id": "2497c7c0",
   "metadata": {},
   "source": [
    "### isApproach Column"
   ]
  },
  {
   "cell_type": "code",
   "execution_count": null,
   "id": "c62cd79a",
   "metadata": {},
   "outputs": [],
   "source": [
    "# maybe run model to predict \n",
    "\n",
    "# features to consider:\n",
    "# player is inside the court\n",
    "\n",
    "# Workflow:\n",
    "# watch all points and tag all points that have _____\n",
    "# subset df with points (testing x and y)\n"
   ]
  },
  {
   "cell_type": "markdown",
   "id": "2843baf6",
   "metadata": {},
   "source": [
    "### isDropshot Column"
   ]
  },
  {
   "cell_type": "code",
   "execution_count": null,
   "id": "3eb7fd66",
   "metadata": {},
   "outputs": [],
   "source": [
    "# maybe run model to predict\n",
    "# features to consider: \n",
    "# shotlocationY if close to the net\n",
    "# shotContactY is close to the net\n",
    "# speed of the ball (in swingvision data)"
   ]
  },
  {
   "cell_type": "markdown",
   "id": "6f949c6d",
   "metadata": {},
   "source": [
    "### isLet Column"
   ]
  },
  {
   "cell_type": "code",
   "execution_count": null,
   "id": "561eb0fa",
   "metadata": {},
   "outputs": [],
   "source": [
    "# maybe run model to predict OR get from swingvision data\n",
    "# features to consider: \n"
   ]
  },
  {
   "cell_type": "markdown",
   "id": "cadb2e78",
   "metadata": {},
   "source": [
    "### isExcitingPoint"
   ]
  },
  {
   "cell_type": "code",
   "execution_count": null,
   "id": "5c49463f",
   "metadata": {},
   "outputs": [],
   "source": [
    "# maybe run model to predict\n",
    "# features to consider:\n",
    "# rally length is long (maybe take _% percintile of rallies)\n",
    "# point ends in a winner\n",
    "# either player moves a lot\n",
    "# amount of volleys, overheads\n",
    "# breakpoint factor"
   ]
  },
  {
   "cell_type": "markdown",
   "id": "10b9abae",
   "metadata": {},
   "source": [
    "### atNetPlayer1 and atNetPlayer2 Columns"
   ]
  },
  {
   "cell_type": "code",
   "execution_count": null,
   "id": "653ff3da",
   "metadata": {},
   "outputs": [],
   "source": [
    "# aggregated in STP"
   ]
  },
  {
   "cell_type": "markdown",
   "id": "d4b25dba",
   "metadata": {},
   "source": [
    "### isLob Column"
   ]
  },
  {
   "cell_type": "code",
   "execution_count": null,
   "id": "ca891efa",
   "metadata": {},
   "outputs": [],
   "source": [
    "# maybe run model to predict\n",
    "# features to consider:\n",
    "# opponent is at the net\n",
    "# speed of the ball (in swingvision data)"
   ]
  },
  {
   "cell_type": "markdown",
   "id": "3b7d8c4d",
   "metadata": {},
   "source": [
    "### shotLocationX and shotLocationY Columns"
   ]
  },
  {
   "cell_type": "code",
   "execution_count": null,
   "id": "77adfc19",
   "metadata": {},
   "outputs": [],
   "source": [
    "# Functions to transform the swingvision coordinates\n",
    "def transf_x_loc(stroke, sv_col):\n",
    "    if stroke != 'first_serve' and stroke != 'second_serve':\n",
    "        return sv_col * 38.2764654418\n",
    "    return np.nan\n",
    "    \n",
    "def transf_y_loc(stroke, sv_col):\n",
    "    if stroke != 'first_serve' and stroke != 'second_serve':\n",
    "        return (sv_col - 11.8872) * 38.2764654418\n",
    "    return np.nan\n",
    "\n",
    "# want to convert swingvision coordinates into our own\n",
    "shot_data['shotLocationX'] = swing_data.apply(lambda x: transf_x_loc(x['Type'], x['Bounce (x)']), axis=1)\n",
    "shot_data['shotLocationY'] = swing_data.apply(lambda x: transf_y_loc(x['Type'], x['Bounce (y)']), axis=1)"
   ]
  },
  {
   "cell_type": "markdown",
   "id": "6147e87b",
   "metadata": {},
   "source": [
    "### shotDirection column"
   ]
  },
  {
   "cell_type": "code",
   "execution_count": null,
   "id": "acd0895f",
   "metadata": {},
   "outputs": [],
   "source": [
    "# down the line --> switches btwn deuce and ad\n",
    "# crosscourt --> remains on same side\n",
    "shot_data['shotDirection'] = np.where((shot_data.shotContactX * shot_data.shotLocationX > 0) & (shot_data.shotInRally != 1), \n",
    "\"Down the Line\", \n",
    "    np.where((shot_data.shotInRally != 1), 'Crosscourt', ''))"
   ]
  },
  {
   "cell_type": "markdown",
   "id": "10cea56e",
   "metadata": {},
   "source": [
    "### isWinner Column"
   ]
  },
  {
   "cell_type": "code",
   "execution_count": null,
   "id": "c191bcc8",
   "metadata": {},
   "outputs": [],
   "source": [
    "shot_data.isWinner = np.where((shot_data.isPointEnd == 1) & (shot_data.secondServeIn != '0') &\n",
    "                              (swing_data.Result == 'In'), 1, np.nan)\n"
   ]
  },
  {
   "cell_type": "markdown",
   "id": "fdcee5c1",
   "metadata": {},
   "source": [
    "### isErrorWideR Column"
   ]
  },
  {
   "cell_type": "code",
   "execution_count": null,
   "id": "7aebc259",
   "metadata": {},
   "outputs": [],
   "source": [
    "def wide_right_function(side, x, y, end):\n",
    "    if (side == 'far' and x < -157.5 and end == 1) or (side == 'near' and x > 157.5 and end == 1):\n",
    "        return 1\n",
    "    return np.nan\n",
    "\n",
    "# Assign 'isErrorWideR' using values from both 'swing_data' and 'shot_data'\n",
    "shot_data['isErrorWideR'] = shot_data.apply(lambda x: wide_right_function(swing_data.loc[x.name, 'Hit Side'], \n",
    "                                                                x['shotLocationX'], x['shotLocationY'], x['isPointEnd']), axis=1)\n"
   ]
  },
  {
   "cell_type": "markdown",
   "id": "8933198a",
   "metadata": {},
   "source": [
    "### isErrorWideL Column"
   ]
  },
  {
   "cell_type": "code",
   "execution_count": null,
   "id": "650c67e6",
   "metadata": {},
   "outputs": [],
   "source": [
    "def wide_left_function(side, x, y, end):\n",
    "    if (side == 'far' and x > 157.5 and end == 1) or (side == 'near' and x < -157.5 and end == 1):\n",
    "        return 1\n",
    "    return np.nan\n",
    "\n",
    "# Assign 'isErrorWideR' using values from both 'swing_data' and 'shot_data'\n",
    "shot_data['isErrorWideL'] = shot_data.apply(lambda x: wide_left_function(swing_data.loc[x.name, 'Hit Side'], \n",
    "                                                                x['shotLocationX'], x['shotLocationY'], x['isPointEnd']), axis=1)\n"
   ]
  },
  {
   "cell_type": "markdown",
   "id": "a39cdb11",
   "metadata": {},
   "source": [
    "### isErrorNet Column"
   ]
  },
  {
   "cell_type": "code",
   "execution_count": null,
   "id": "9276a20f",
   "metadata": {},
   "outputs": [],
   "source": [
    "shot_data.isErrorNet = np.where((swing_data.Result == 'Net'), 1, np.nan)"
   ]
  },
  {
   "cell_type": "markdown",
   "id": "c0487799",
   "metadata": {},
   "source": [
    "### isErrorLong Column"
   ]
  },
  {
   "cell_type": "code",
   "execution_count": null,
   "id": "31f37c9d",
   "metadata": {},
   "outputs": [],
   "source": [
    "shot_data['isErrorLong'] = np.where((swing_data['Result'] == 'Out') & (shot_data['shotLocationY'].abs() > 455), 1, np.nan)"
   ]
  },
  {
   "cell_type": "markdown",
   "id": "c0703fbb",
   "metadata": {},
   "source": [
    "### Group First Serve and Second Serve Columns"
   ]
  },
  {
   "cell_type": "code",
   "execution_count": null,
   "id": "a9bdad6a",
   "metadata": {},
   "outputs": [],
   "source": [
    "# All columns\n",
    "default_cols = ['pointScore', 'gameScore', 'setScore', 'isPointStart', 'pointStartTime',\n",
    "       'isPointEnd', 'pointEndTime', 'pointNumber', 'isBreakPoint',\n",
    "       'shotInRally', 'side', 'serverName', 'serverFarNear', 'firstServeIn',\n",
    "       'firstServeZone', 'firstServeXCoord', 'firstServeYCoord',\n",
    "       'secondServeIn', 'secondServeZone', 'secondServeXCoord',\n",
    "       'secondServeYCoord', 'isAce', 'shotContactX', 'shotContactY',\n",
    "       'shotDirection', 'shotFhBh', 'isSlice', 'isVolley', 'isOverhead',\n",
    "       'isApproach', 'isDropshot', 'isExcitingPoint', 'atNetPlayer1',\n",
    "       'atNetPlayer2', 'isLob', 'shotLocationX', 'shotLocationY', 'isWinner',\n",
    "       'isErrorWideR', 'isErrorWideL', 'isErrorNet', 'isErrorLong',\n",
    "       'clientTeam', 'Date', 'Division', 'Event', 'lineupPosition',\n",
    "       'matchDetails', 'matchVenue', 'opponentTeam', 'player1Name',\n",
    "       'player2Name', 'player1Hand', 'player2Hand', 'Round', 'Surface',\n",
    "       'Notes', 'isTopspin', 'isFlat', 'isKick']\n",
    "\n",
    "# Assign all columns to have value be taken from the first serve row\n",
    "agg_dict = {col: 'first' for col in default_cols}\n",
    "\n",
    "# Reassign select columns to have value be taken form the second serve row\n",
    "agg_dict.update({'isPointEnd': 'last', \n",
    "                 'pointEndTime': 'last', \n",
    "                 'secondServeIn' : 'last',\n",
    "                 'secondServeZone' : 'last',\n",
    "                 'secondServeXCoord' : 'last', \n",
    "                 'secondServeYCoord' : 'last',\n",
    "                 'isAce' : 'last', \n",
    "                 'shotContactX' : 'last', \n",
    "                 'shotContactY' : 'last',\n",
    "                 'isWinner' : 'last',\n",
    "                 'isErrorWideR' : 'last',\n",
    "                 'isErrorWideL' : 'last', \n",
    "                 'isErrorNet' : 'last',\n",
    "                 'isErrorLong' : 'last'\n",
    "                })\n",
    "\n",
    "# Group by isPointStart and pointNumber\n",
    "grouped_df = shot_data.groupby(['shotInRally', 'pointNumber'], as_index=False).agg(agg_dict)\n",
    "shot_data = grouped_df.sort_values(by=['pointNumber', 'shotInRally'], ascending=[True, True]).reset_index(drop = True)"
   ]
  },
  {
   "cell_type": "markdown",
   "id": "30b72ab0-63ce-4b5e-b6b5-bd37b8e23e94",
   "metadata": {},
   "source": [
    "### Save as CSV"
   ]
  },
  {
   "cell_type": "code",
   "execution_count": null,
   "id": "72a0434f",
   "metadata": {},
   "outputs": [],
   "source": [
    "player1NameNoSpace = str(shot_data.iloc[0]['player1Name']).replace(\" \", \"\")\n",
    "player2NameNoSpace = str(shot_data.iloc[0]['player2Name']).replace(\" \", \"\")\n",
    "\n",
    "shot_data.to_csv(f'swingvision_{player1NameNoSpace}_{player2NameNoSpace}.csv', index=False)\n",
    "print(f'swingvision_{player1NameNoSpace}_{player2NameNoSpace}.csv')"
   ]
  },
  {
   "cell_type": "markdown",
   "id": "d8b7ccda",
   "metadata": {},
   "source": [
    "### Notebook End"
   ]
  },
  {
   "cell_type": "code",
   "execution_count": null,
   "id": "1416794e",
   "metadata": {},
   "outputs": [],
   "source": []
  },
  {
   "cell_type": "code",
   "execution_count": null,
   "id": "3486ecc5",
   "metadata": {},
   "outputs": [],
   "source": []
  },
  {
   "cell_type": "code",
   "execution_count": null,
   "id": "41e3b490",
   "metadata": {},
   "outputs": [],
   "source": []
  },
  {
   "cell_type": "code",
   "execution_count": null,
   "id": "79f190ba",
   "metadata": {},
   "outputs": [],
   "source": []
  },
  {
   "cell_type": "markdown",
   "id": "a9e68012",
   "metadata": {},
   "source": [
    "## Errors in Swingvision Data Exploration"
   ]
  },
  {
   "cell_type": "markdown",
   "id": "a5bff5a2",
   "metadata": {},
   "source": [
    "#### Chcek all the rows where isPointEnd != 1 and there is  isWinner, isErrorWideL, isErrorWideR, isErrorNet, isErrorLong"
   ]
  },
  {
   "cell_type": "code",
   "execution_count": null,
   "id": "5730fd6a",
   "metadata": {},
   "outputs": [],
   "source": [
    "point_error = shot_data[(shot_data['isPointEnd'] != 1) & (shot_data['isPointStart'] != 1) &\n",
    "          ((shot_data['isWinner'] == 1) | \n",
    "          (shot_data['isErrorNet'] == 1) | \n",
    "          (shot_data['isErrorLong'] == 1) |\n",
    "          (shot_data['isErrorWideL'] == 1) |\n",
    "          (shot_data['isErrorWideR'] == 1))]\n",
    "\n",
    "point_error_numbers = point_error['pointNumber'].to_list()\n",
    "\n",
    "if len(point_error) > 0:\n",
    "    display(point_error)\n",
    "    raise ValueError('Manually check points', point_error_numbers)"
   ]
  },
  {
   "cell_type": "code",
   "execution_count": null,
   "id": "2f42d0d6",
   "metadata": {},
   "outputs": [],
   "source": [
    "shot_data[shot_data['pointNumber'] == 2]"
   ]
  },
  {
   "cell_type": "markdown",
   "id": "5569525d",
   "metadata": {},
   "source": [
    "#### Check all the rows where there is isPointEnd == 1 but there is no isWinner, isErrorWideL, isErrorWideR, isErrorNet, isErrorLong\n",
    "- Cj reccomendation: have this error check autmatically fill in how the point ends based on coordinate data"
   ]
  },
  {
   "cell_type": "code",
   "execution_count": null,
   "id": "b13333ce",
   "metadata": {},
   "outputs": [],
   "source": [
    "point_error = shot_data[(shot_data['isPointEnd'] == 1) &\n",
    "                          (shot_data['isWinner'] != 1) &\n",
    "                          (shot_data['isErrorWideL'] != 1) &\n",
    "                          (shot_data['isErrorWideR'] != 1) &\n",
    "                          (shot_data['isErrorNet'] != 1) & \n",
    "                          (shot_data['isErrorLong'] != 1) &\n",
    "                          (shot_data['firstServeIn'] != 0) & \n",
    "                          (shot_data['secondServeIn'] != 0)]\n",
    "\n",
    "point_error_numbers = point_error['pointNumber'].to_list()\n",
    "\n",
    "if point_error.empty:\n",
    "    print('Check Passed ✓')\n",
    "else:\n",
    "\n",
    "    display(point_error)\n",
    "    raise ValueError('Manually check points', point_error_numbers)"
   ]
  },
  {
   "cell_type": "markdown",
   "id": "50a7f957",
   "metadata": {},
   "source": [
    "#### Volleys\n"
   ]
  },
  {
   "cell_type": "code",
   "execution_count": null,
   "id": "dbed4938",
   "metadata": {},
   "outputs": [],
   "source": [
    "shot_data.query('isVolley == 1')"
   ]
  },
  {
   "cell_type": "code",
   "execution_count": null,
   "id": "cf59f303",
   "metadata": {},
   "outputs": [],
   "source": [
    "shot_data[355:500]"
   ]
  },
  {
   "cell_type": "markdown",
   "id": "ac184595",
   "metadata": {},
   "source": [
    "#### Overheads"
   ]
  },
  {
   "cell_type": "code",
   "execution_count": null,
   "id": "14c8b894",
   "metadata": {},
   "outputs": [],
   "source": [
    "shot_data.query('isOverhead == 1')"
   ]
  },
  {
   "cell_type": "markdown",
   "id": "5e5dea0a",
   "metadata": {},
   "source": [
    "#### Aces\n",
    "- WARNING: Not accurate\n",
    "- FIX: counts double faults as aces"
   ]
  },
  {
   "cell_type": "code",
   "execution_count": null,
   "id": "be8420a7",
   "metadata": {},
   "outputs": [],
   "source": [
    "shot_data.query('isAce == 1')"
   ]
  },
  {
   "cell_type": "markdown",
   "id": "3416b90e",
   "metadata": {},
   "source": [
    "#### Double Faults"
   ]
  },
  {
   "cell_type": "code",
   "execution_count": null,
   "id": "1a37d564",
   "metadata": {},
   "outputs": [],
   "source": [
    "shot_data.query('firstServeIn == 0').query('secondServeIn == 0')"
   ]
  },
  {
   "cell_type": "code",
   "execution_count": null,
   "id": "d0dfbef8",
   "metadata": {},
   "outputs": [],
   "source": [
    "shot_data[shot_data['pointNumber'] == 10]"
   ]
  },
  {
   "cell_type": "markdown",
   "id": "9141faae",
   "metadata": {},
   "source": [
    "### Check all points where double fault occurs (firstServeIn == 0 & secondServeIn == 0) but len(shotInRally) > 1\n",
    "- Check double fault but the point continues"
   ]
  },
  {
   "cell_type": "code",
   "execution_count": null,
   "id": "8b5240ca",
   "metadata": {},
   "outputs": [],
   "source": []
  },
  {
   "cell_type": "markdown",
   "id": "28c21e97",
   "metadata": {},
   "source": [
    "### Check all the points where everytime the server changes, the first pointScore should be \"0-0\". If not output error\n",
    "- Govind Nanda vs Cooper Williams (Harvard) row 380"
   ]
  },
  {
   "cell_type": "code",
   "execution_count": null,
   "id": "ff791657",
   "metadata": {},
   "outputs": [],
   "source": []
  },
  {
   "cell_type": "code",
   "execution_count": null,
   "id": "f1b9020d",
   "metadata": {},
   "outputs": [],
   "source": []
  },
  {
   "cell_type": "code",
   "execution_count": null,
   "id": "9226d17a",
   "metadata": {},
   "outputs": [],
   "source": []
  },
  {
   "cell_type": "markdown",
   "id": "ba120d16-eec6-4b74-a612-5c01719897f8",
   "metadata": {},
   "source": [
    "### Points"
   ]
  },
  {
   "cell_type": "code",
   "execution_count": null,
   "id": "4a014d39-ecae-4544-8bd0-fb896c41e44a",
   "metadata": {},
   "outputs": [],
   "source": [
    "# # ad scoring?\n",
    "\n",
    "# ad_scoring = False"
   ]
  },
  {
   "cell_type": "code",
   "execution_count": null,
   "id": "e4707761-c24f-4a32-ad48-ca3576bb3d7f",
   "metadata": {},
   "outputs": [],
   "source": [
    "# # want to record the score every time a point ends\n",
    "# # points: server - returner\n",
    "# # games: ucla (player1) - opp\n",
    "# # sets: ucla (player1) - opp\n",
    "# points = np.zeros(2)\n",
    "# games = np.zeros(2)\n",
    "# sets = np.zeros(2)\n",
    "# pt_values = [0, 15, 30, 40]\n",
    "\n",
    "\n",
    "\n",
    "# shot_data.loc[0,\"pointScore\"] = f\"{pt_values[int(points[0])]} - {pt_values[int(points[1])]}\"\n",
    "# shot_data.loc[0,\"gameScore\"] = f\"{games[0]} - {games[1]}\"\n",
    "# shot_data.loc[0,\"setScore\"] = f\"{sets[0]} - {sets[1]}\"\n",
    "\n",
    "# shot_data[\"isBreakPoint\"] = ''\n",
    "\n",
    "# error_cols = [x for x in shot_data.columns if \"isError\" in x]\n",
    "\n",
    "# for i in range(0, len(shot_data.pointScore) - 1):\n",
    "#     if shot_data.loc[i+1, \"isPointStart\"] == 1: # means we gotta update pts\n",
    "#         # determine point score by checking last shot\n",
    "#         if shot_data.loc[i, \"isWinner\"] == \"1\":\n",
    "#             # check if player 1 or 2 won pt\n",
    "#             pt_winner_player_num = (np.where(shot_data.loc[i, \"Player\"] == shot_data.loc[0,\"player1Name\"], '1', '2'))\n",
    "#         elif shot_data.loc[i, 'secondServeIn'] == \"0\": # double fault\n",
    "#             pt_winner_player_num = (np.where(shot_data.loc[i, \"Player\"] == shot_data.loc[0,\"player1Name\"], '2', '1'))\n",
    "#         elif any(shot_data.loc[i,error_cols] == \"1\"):\n",
    "#             # winner is the player who did NOT hit that shot\n",
    "#             pt_winner_player_num = (np.where(shot_data.loc[i, \"Player\"] == shot_data.loc[0,\"player1Name\"], '2', '1'))\n",
    "#         else:\n",
    "#             print(\"no pt recorded at row \", i)\n",
    "\n",
    "#         if shot_data.loc[i, \"serverName\"] is not None:\n",
    "#             didServerWinPt = shot_data.loc[i, \"serverName\"][-1] == pt_winner_player_num\n",
    "#         else:\n",
    "#             print(f\"Server name is None at row {i}. Skipping this point.\")\n",
    "#             continue  # Skip this point if server name is None\n",
    "        \n",
    "#         if didServerWinPt:\n",
    "#             points[0] += 1\n",
    "#         else:\n",
    "#             points[1] += 1\n",
    "\n",
    "\n",
    "#         if ad_scoring: # checks if need to win by 2\n",
    "#             if any(points > 3) and abs(points[0] - points[1]) >= 2:\n",
    "#                 game_winner = np.argmax(points)  # Find who won the game\n",
    "#                 games[game_winner] += 1\n",
    "#                 points = np.zeros(2)  # Reset point values\n",
    "#             if any(games > 5) and abs(games[0] - games[1]) >= 2:\n",
    "#                 set_winner = np.argmax(games)  # Find who won the set\n",
    "#                 sets[set_winner] += 1\n",
    "#                 games = np.zeros(2)  # Reset game values   \n",
    "#         else:\n",
    "#             if points[1] == 3: # if the returner has 40 pts and can win the game\n",
    "#                 shot_data.loc[i + 1, 'isBreakPoint'] = '1'\n",
    "#             if any(points > 3):\n",
    "#                 game_winner = np.argmax(points)  # Find who won the game\n",
    "#                 games[game_winner] += 1\n",
    "#                 points = np.zeros(2)  # Reset point values\n",
    "#             if any(games > 5):\n",
    "#                 set_winner = np.argmax(games)  # Find who won the set\n",
    "#                 sets[set_winner] += 1\n",
    "#                 games = np.zeros(2)  # Reset game values   \n",
    "\n",
    "#     # Update the scores in the shot_data DataFrame\n",
    "#     shot_data.loc[i+1,\"pointScore\"] = f\"{pt_values[int(points[0])]} - {pt_values[int(points[1])]}\"\n",
    "#     shot_data.loc[i+1,\"gameScore\"] = f\"{int(games[0])} - {int(games[1])}\"\n",
    "#     shot_data.loc[i+1,\"setScore\"] = f\"{int(sets[0])} - {int(sets[1])}\"\n",
    "\n",
    "\n",
    "# # Additional comments for further updates:\n",
    "# # - Tiebreak scenarios are not yet handled and need to be accounted for in future versions."
   ]
  }
 ],
 "metadata": {
  "kernelspec": {
   "display_name": "base",
   "language": "python",
   "name": "python3"
  },
  "language_info": {
   "codemirror_mode": {
    "name": "ipython",
    "version": 3
   },
   "file_extension": ".py",
   "mimetype": "text/x-python",
   "name": "python",
   "nbconvert_exporter": "python",
   "pygments_lexer": "ipython3",
   "version": "3.11.5"
  }
 },
 "nbformat": 4,
 "nbformat_minor": 5
}
